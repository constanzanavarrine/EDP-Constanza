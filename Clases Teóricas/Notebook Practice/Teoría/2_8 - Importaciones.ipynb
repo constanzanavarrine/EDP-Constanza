{
 "cells": [
  {
   "cell_type": "markdown",
   "id": "5e618ea2",
   "metadata": {},
   "source": [
    "💡 Para usar List, Dict, Tuple, Any, Optional tenés que importar del módulo typing:"
   ]
  },
  {
   "cell_type": "code",
   "execution_count": null,
   "id": "39c7cd1f",
   "metadata": {},
   "outputs": [],
   "source": [
    "from typing import List, Dict, Tuple, Any, Optional\n"
   ]
  }
 ],
 "metadata": {
  "language_info": {
   "name": "python"
  }
 },
 "nbformat": 4,
 "nbformat_minor": 5
}
