{
 "cells": [
  {
   "cell_type": "code",
   "execution_count": null,
   "id": "63bbae74",
   "metadata": {},
   "outputs": [],
   "source": [
    "def __init__(self, titulo: str, autor: str, isbn: str, editorial: str):\n",
    "        \"\"\"Constructor de la clase Libro\"\"\"\n",
    "        self.__titulo = titulo\n",
    "        self.__autor = autor\n",
    "        self.__isbn = isbn\n",
    "        self.__editorial = editorial\n",
    "        self.__disponible = True            # por defecto todo nuevo libro esta disponible \n",
    "\n",
    "\n",
    "        # Los atributos tienen doble guion bajo: significa atributo privado,\n",
    "        # la idea es que solo se acceda mediante getters/setters \n",
    "        "
   ]
  },
  {
   "cell_type": "markdown",
   "id": "064c9bfd",
   "metadata": {},
   "source": [
    "# Teoria encapsulacion → no se accede dirrecto al atributo,\n",
    "    # sino mediante metodos:\n",
    "        # getter\n",
    "        # setter\n",
    "\n",
    "# Métodos de funcionalidad\n",
    "    # son los que yo hago\n"
   ]
  },
  {
   "cell_type": "markdown",
   "id": "d932d862",
   "metadata": {},
   "source": [
    "Como en este caso no tengo return y     lo pasado por parametro es lo que   voy a modificar, entonces   no hace falta return    el valor se modifica directamente   y como no hay return    el metodo devuelve por defecto None"
   ]
  },
  {
   "cell_type": "code",
   "execution_count": null,
   "id": "0bec4510",
   "metadata": {},
   "outputs": [],
   "source": []
  },
  {
   "cell_type": "code",
   "execution_count": null,
   "id": "a0133a40",
   "metadata": {},
   "outputs": [],
   "source": [
    "def set_titulo(self, titulo: str) -> None:\n",
    "        \"\"\"Establece el título del libro\"\"\"\n",
    "        self.__titulo = titulo\n",
    "        "
   ]
  },
  {
   "cell_type": "markdown",
   "id": "c806a62b",
   "metadata": {},
   "source": [
    "Cuando el metodo por ejemplo devuelve un str"
   ]
  },
  {
   "cell_type": "code",
   "execution_count": null,
   "id": "d8a569aa",
   "metadata": {},
   "outputs": [],
   "source": [
    "def ver_informacion_libro(self) -> str:\n",
    "        \"\"\"Muestra la información completa del libro\"\"\"\n",
    "        if self.__disponible:\n",
    "            estado = \"Disponible\"\n",
    "        else:\n",
    "            estado = \"Prestado\"\n",
    "\n",
    "        return f\"\"\"\n",
    "        Título: {self.__titulo}\n",
    "        Autor: {self.__autor}\n",
    "        ISBN: {self.__isbn}\n",
    "        Editorial: {self.__editorial}\n",
    "        Estado: {estado}\n",
    "        \"\"\""
   ]
  },
  {
   "cell_type": "markdown",
   "id": "785b7f22",
   "metadata": {},
   "source": [
    "    ISINSTANCE"
   ]
  },
  {
   "cell_type": "markdown",
   "id": "b13aa96f",
   "metadata": {},
   "source": [
    "¿Qué hace isinstance?\n",
    "\n",
    "Básicamente, isinstance(objeto, clase) te dice si un determinado objeto es una instancia de una clase (o de una tupla de clases). En otras palabras, es como preguntar: “¿Este objeto pertenece a esta clase o a esta familia de clases?”\n",
    "\n",
    "¿Cuándo lo usás?\n",
    "\n",
    "Validación de tipos: Cuando querés asegurarte de que un argumento o un dato que recibís sea del tipo correcto. Por ejemplo, en nuestro caso, validamos que el prefijo sea un string antes de guardarlo. Así evitás errores raros más adelante.\n",
    "\n",
    "Comportamiento condicional: A veces tenés un objeto que puede ser de varios tipos y querés hacer algo distinto según su tipo. Por ejemplo, si tenés una función que recibe un vehículo y querés hacer algo especial solo si es un Auto, ahí podrías usar isinstance(vehiculo, Auto).\n",
    "\n",
    "Herencia y polimorfismo: Si tenés una jerarquía de clases, isinstance te permite verificar si un objeto pertenece a una subclase en particular."
   ]
  }
 ],
 "metadata": {
  "language_info": {
   "name": "python"
  }
 },
 "nbformat": 4,
 "nbformat_minor": 5
}
