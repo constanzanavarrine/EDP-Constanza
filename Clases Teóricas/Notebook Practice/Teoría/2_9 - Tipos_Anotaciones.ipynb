{
  "cells": [
    {
      "cell_type": "markdown",
      "metadata": {},
      "source": [
        "# 📌 Anotaciones de tipos en Python\n",
        "\n",
        "En Python, las **anotaciones de tipo** sirven como sugerencias sobre qué tipo de datos se espera que tengan las variables o que devuelva una función.\n",
        "No son obligatorias, pero ayudan a leer el código y a usar herramientas como linters o editores inteligentes.\n",
        "\n",
        "## Anotaciones comunes\n",
        "| Anotación | Significado | Ejemplo de uso |\n",
        "|-----------|-------------|----------------|\n",
        "| `str`     | Cadena de texto | `def get_nombre() -> str:` |\n",
        "| `int`     | Número entero | `def edad() -> int:` |\n",
        "| `float`   | Número decimal | `def temperatura() -> float:` |\n",
        "| `bool`    | Booleano (`True`/`False`) | `def esta_disponible() -> bool:` |\n",
        "| `None`    | No devuelve nada | `def set_edad(e: int) -> None:` |\n",
        "| `list` o `List[tipo]` | Lista (opcionalmente tipada) | `def alumnos() -> list:` o `-> List[str]` |\n",
        "| `dict` o `Dict[k, v]` | Diccionario (clave/valor) | `def datos() -> Dict[str, int]:` |\n",
        "| `tuple` o `Tuple[t1, t2,...]` | Tupla | `def coordenada() -> Tuple[int, int]:` |\n",
        "| `Any`     | Cualquier tipo | `def procesar(x: Any) -> Any:` |\n",
        "| `Optional[tipo]` | Puede ser ese tipo o `None` | `def buscar() -> Optional[str]:` |\n",
        "\n",
        "Para usar `List`, `Dict`, `Tuple`, `Any`, `Optional` importamos desde `typing`:\n",
        "```python\n",
        "from typing import List, Dict, Tuple, Any, Optional\n",
        "```"
      ]
    },
    {
      "cell_type": "code",
      "execution_count": null,
      "metadata": {},
      "outputs": [],
      "source": [
        "# Ejemplos de funciones con anotaciones de tipo\n",
        "from typing import List, Dict, Tuple, Any, Optional\n",
        "\n",
        "def get_nombre() -> str:\n",
        "    return \"Ana\"\n",
        "\n",
        "def edad() -> int:\n",
        "    return 25\n",
        "\n",
        "def temperatura() -> float:\n",
        "    return 36.6\n",
        "\n",
        "def esta_disponible() -> bool:\n",
        "    return True\n",
        "\n",
        "def set_edad(e: int) -> None:\n",
        "    print(f\"Edad establecida en {e}\")\n",
        "\n",
        "def alumnos() -> List[str]:\n",
        "    return [\"Ana\", \"Juan\", \"Pedro\"]\n",
        "\n",
        "def datos() -> Dict[str, int]:\n",
        "    return {\"Ana\": 25, \"Juan\": 30}\n",
        "\n",
        "def coordenada() -> Tuple[int, int]:\n",
        "    return (10, 20)\n",
        "\n",
        "def procesar(x: Any) -> Any:\n",
        "    return x\n",
        "\n",
        "def buscar() -> Optional[str]:\n",
        "    return None  # o puede devolver un string\n",
        "\n",
        "# Probemos algunas llamadas\n",
        "print(get_nombre())\n",
        "print(edad())\n",
        "print(temperatura())\n",
        "print(esta_disponible())\n",
        "set_edad(30)\n",
        "print(alumnos())\n",
        "print(datos())\n",
        "print(coordenada())\n",
        "print(procesar(123))\n",
        "print(buscar())"
      ]
    }
  ],
  "metadata": {
    "kernelspec": {
      "display_name": "Python 3",
      "language": "python",
      "name": "python3"
    },
    "language_info": {
      "name": "python",
      "version": "3.x"
    }
  },
  "nbformat": 4,
  "nbformat_minor": 5
}