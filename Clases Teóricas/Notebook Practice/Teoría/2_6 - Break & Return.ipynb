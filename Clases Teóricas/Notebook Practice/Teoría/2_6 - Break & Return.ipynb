{
 "cells": [
  {
   "cell_type": "markdown",
   "id": "3e70d43f",
   "metadata": {},
   "source": [
    "RETURN = \" termino la funcion \"     \n",
    "BREAK = \" termino este bucle, pero sigo la funcion \""
   ]
  },
  {
   "cell_type": "markdown",
   "id": "98ad509b",
   "metadata": {},
   "source": [
    "    RETURN \n",
    "\n",
    "- Se usa dentro de una función o método.\n",
    "\n",
    "- Hace que la función termine inmediatamente y, opcionalmente, devuelva un valor.\n",
    "\n",
    "- No sigue ejecutando nada más dentro de esa función.\n",
    "\n",
    "- Ejemplo:"
   ]
  },
  {
   "cell_type": "code",
   "execution_count": null,
   "id": "1a575e62",
   "metadata": {},
   "outputs": [],
   "source": [
    "def ejemplo_return():\n",
    "    print(\"Antes del return\")\n",
    "    return                          # termina la funcion aca\n",
    "    print(\"Esto nunca se ejecuta\")\n",
    "\n",
    "ejemplo_return()\n",
    "\n",
    "# Aca el return corta toda la funcion\n"
   ]
  },
  {
   "cell_type": "markdown",
   "id": "cb8ad809",
   "metadata": {},
   "source": [
    "    BREAK\n",
    "\n",
    "- Se usa dentro de un bucle (for o while).\n",
    "\n",
    "- Hace que el bucle termine inmediatamente, pero no corta la función completa, solo el ciclo.\n",
    "\n",
    "- Ejemplo:"
   ]
  },
  {
   "cell_type": "code",
   "execution_count": null,
   "id": "9363e95f",
   "metadata": {},
   "outputs": [],
   "source": [
    "def ejemplo_break():\n",
    "    for i in range(5):\n",
    "        if i == 2:\n",
    "            break\n",
    "        print(i)\n",
    "    print(\"Fin del bucle\")\n",
    "\n",
    "ejemplo_break()\n",
    "\n",
    "# Aca el break corta el for, pero la funcion sigue ejecutandose"
   ]
  }
 ],
 "metadata": {
  "language_info": {
   "name": "python"
  }
 },
 "nbformat": 4,
 "nbformat_minor": 5
}
