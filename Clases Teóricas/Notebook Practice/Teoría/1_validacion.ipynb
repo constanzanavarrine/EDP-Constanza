{
 "cells": [
  {
   "cell_type": "markdown",
   "metadata": {},
   "source": [
    "Queremos hacer una función que *valide* las novedades de la lista. Es decir:\n",
    "- retorne `True` si la novedad es una \"A\"\n",
    "- retorne `True` si la novedad es una \"P\"\n",
    "- retorne `True` si la novedad es una cadena numérica, p. ej. \"30\"\n",
    "- retorne `False` en cualquier otro caso"
   ]
  },
  {
   "cell_type": "markdown",
   "metadata": {},
   "source": [
    "El ejemplo que construimos entre todos en clase es el siguiente:"
   ]
  },
  {
   "cell_type": "code",
   "execution_count": 1,
   "metadata": {},
   "outputs": [],
   "source": [
    "def validar_dato(dato):\n",
    "    if type(dato) == str:\n",
    "        if dato == \"A\" or dato == \"P\":\n",
    "            return True\n",
    "        else:\n",
    "            try:\n",
    "                b = int(dato)\n",
    "            except:\n",
    "                return False\n",
    "            return True\n",
    "    else:\n",
    "        return False"
   ]
  },
  {
   "cell_type": "markdown",
   "metadata": {},
   "source": [
    "Utilizando *cláusulas de guarda* podemos hacer que la función sea mucho más simple:"
   ]
  },
  {
   "cell_type": "code",
   "execution_count": 2,
   "metadata": {},
   "outputs": [],
   "source": [
    "def validar_dato(dato):\n",
    "    if type(dato) != str:\n",
    "        return False\n",
    "    # En este punto (abajo del if), ya estoy seguro que dato es un str!\n",
    "    # Puedo utilizar el método isdigit de los str - ver:\n",
    "    # https://www.w3schools.com/python/ref_string_isdigit.asp\n",
    "    if dato.isdigit():\n",
    "        return True\n",
    "    # En este punto (abajo del if), ya estoy seguro que el dato es un str y que ya\n",
    "    # \"manejé\" las cadenas numéricas. Solo resta ver si es \"A\" o \"P\"\n",
    "    if dato == \"A\" or dato == \"P\":\n",
    "        return True\n",
    "    # En todos los demás casos, devolvemos que es inválido.\n",
    "    return False"
   ]
  },
  {
   "cell_type": "markdown",
   "metadata": {},
   "source": [
    "Podemos simplificar aún más la función haciendo que retorne el resultado de una\n",
    "expresión booleana:"
   ]
  },
  {
   "cell_type": "code",
   "execution_count": null,
   "metadata": {},
   "outputs": [],
   "source": [
    "def validar_dato(dato):\n",
    "    if type(dato) != str:\n",
    "        return False\n",
    "    # En este punto (abajo del if), ya estoy seguro que dato es un str!\n",
    "    return dato.isdigit() or dato in [\"A\", \"P\"]"
   ]
  },
  {
   "cell_type": "markdown",
   "metadata": {},
   "source": [
    "    --Tipos ERRORES --"
   ]
  },
  {
   "cell_type": "markdown",
   "metadata": {},
   "source": [
    "ValueError, TypeError, etc. → indican que algo salió mal en la  \n",
    "ejecución (valores inválidos, tipos incorrectos).\n",
    "\n",
    "NotImplementedError → indica que la implementación no existe aún o no debería   \n",
    "usarse en la clase actual."
   ]
  },
  {
   "cell_type": "markdown",
   "metadata": {},
   "source": [
    "\n",
    "\n",
    "- NotImplementedError es una excepcion estandar de python\n",
    "\n",
    "        - se usa cuando definimos un metodo que todavia no tiene implementacion, porque se espera que las subclases lo sobrescriban\n",
    "\n",
    "        - cuando armamos un sistema y queremos dejar un metodo como pendiente a implementar "
   ]
  },
  {
   "cell_type": "code",
   "execution_count": null,
   "metadata": {},
   "outputs": [],
   "source": [
    "class Figura:\n",
    "    def area(self):\n",
    "        raise NotImplementedError(\"Las subclases deben implementar area()\")\n",
    "\n",
    "'''\n",
    "Cuadrado(Figura) implementara area con lado*lado\n",
    "Circulo(Figura) implementara area con pi * r^2\n",
    "\n",
    "'''"
   ]
  },
  {
   "cell_type": "code",
   "execution_count": null,
   "metadata": {},
   "outputs": [],
   "source": [
    "class Vehiculo:\n",
    "    def trasladarse(self, desplazamiento: int):\n",
    "        raise NotImplementedError(\"Cada subclase define su traslado.\")\n",
    "\n",
    "\n",
    "class Auto(Vehiculo):\n",
    "    def trasladarse(self, desplazamiento: int):\n",
    "        return f\"Auto avanza {desplazamiento} km por tierra.\"\n",
    "\n",
    "\n",
    "class Lancha(Vehiculo):\n",
    "    def trasladarse(self, desplazamiento: int):\n",
    "        return f\"Lancha avanza {desplazamiento} km por agua.\"\n",
    "\n",
    "\n",
    "\n",
    "'''\n",
    "Si usás Auto o Lancha → anda perfecto.\n",
    "\n",
    "Si intentás Vehiculo().trasladarse(10) → levanta NotImplementedError.\n",
    "\n",
    "'''\n"
   ]
  }
 ],
 "metadata": {
  "kernelspec": {
   "display_name": ".venv",
   "language": "python",
   "name": "python3"
  },
  "language_info": {
   "codemirror_mode": {
    "name": "ipython",
    "version": 3
   },
   "file_extension": ".py",
   "mimetype": "text/x-python",
   "name": "python",
   "nbconvert_exporter": "python",
   "pygments_lexer": "ipython3",
   "version": "3.11.2"
  }
 },
 "nbformat": 4,
 "nbformat_minor": 2
}
