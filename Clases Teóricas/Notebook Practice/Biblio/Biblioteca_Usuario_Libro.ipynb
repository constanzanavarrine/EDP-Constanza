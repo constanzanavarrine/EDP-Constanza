{
  "cells": [
    {
      "cell_type": "markdown",
      "metadata": {},
      "source": [
        "# Sistema de Biblioteca: `Libro` y `Usuario`\n",
        "\n",
        "Este notebook resume **qué hace cada clase**, **por qué los métodos están donde están** y recorre el **flujo paso a paso** con ejemplos ejecutables para practicar antes del parcial.\n",
        "\n",
        "## Idea de diseño (lo del audio retomado)\n",
        "- `Libro` sabe **todo sobre sí mismo**: sus datos y si está disponible. Puede **cambiar su propio estado** con `prestar()` / `devolver()`.\n",
        "- `Usuario` sabe **qué libros tiene ese usuario** y coordina el préstamo/devolución con el libro específico. Por eso `pedir_libro_prestado()` y `devolver_libro_prestado()` viven en `Usuario`: ahí es donde se **registra** qué libros posee cada persona.\n",
        "\n",
        "Esta separación mantiene la **responsabilidad única** de cada clase y permite escalar (por ejemplo, límites por usuario) sin tocar `Libro`.\n"
      ]
    },
    {
      "cell_type": "markdown",
      "metadata": {},
      "source": [
        "## 1) Clase `Libro` (resumen)\n",
        "- Atributos privados: título, autor, ISBN, editorial, disponibilidad (`True` por defecto).\n",
        "- Getters/Setters: acceso controlado a los atributos.\n",
        "- `prestar()` y `devolver()` cambian el estado y **validan** con excepciones si la operación no corresponde.\n",
        "- `__str__`: representación corta legible.\n",
        "\n",
        "> Para correr los ejemplos, importamos la clase del archivo `Libro.py`.\n"
      ]
    },
    {
      "cell_type": "code",
      "execution_count": null,
      "metadata": {},
      "outputs": [],
      "source": [
        "import sys, os\n",
        "sys.path.append('/mnt/data')  # aseguramos poder importar Libro.py\n",
        "from Libro import Libro\n",
        "\n",
        "# Pequeña prueba rápida\n",
        "libro_demo = Libro('1984', 'Orwell', 'ISBN-1984', 'Debolsillo')\n",
        "print(libro_demo)                 # usa __str__\n",
        "print(libro_demo.get_disponible())\n",
        "libro_demo.prestar()\n",
        "print(libro_demo.get_disponible())\n",
        "libro_demo.devolver()\n",
        "print(libro_demo.get_disponible())"
      ]
    },
    {
      "cell_type": "markdown",
      "metadata": {},
      "source": [
        "## 2) Clase `Usuario` (explicación)\n",
        "- Atributos: nombre, DNI, y un **diccionario** `__libros_prestados` cuyas *claves* son ISBN (`str`) y *valores* son objetos `Libro`.\n",
        "- Al iniciar, ese diccionario empieza **vacío**. Luego se llena cuando el usuario pide libros.\n",
        "- `pedir_libro_prestado(libro)`: valida que no lo tenga ya, pide al `Libro` que se preste y lo guarda por ISBN.\n",
        "- `devolver_libro_prestado(libro)`: valida que lo tenga, pide al `Libro` que se devuelva y lo quita del diccionario.\n",
        "- `ver_libros_prestados()`: devuelve un string legible con todos los libros actuales.\n"
      ]
    },
    {
      "cell_type": "code",
      "execution_count": null,
      "metadata": {},
      "outputs": [],
      "source": [
        "from typing import List, Dict\n",
        "from Libro import Libro\n",
        "\n",
        "class Usuario:\n",
        "    def __init__(self, nombre: str, dni: str):\n",
        "        self.__nombre = nombre\n",
        "        self.__dni = dni\n",
        "        self.__libros_prestados: Dict[str, Libro] = {}\n",
        "\n",
        "    def get_nombre(self) -> str:\n",
        "        return self.__nombre\n",
        "\n",
        "    def get_dni(self) -> str:\n",
        "        return self.__dni\n",
        "\n",
        "    def get_libros_prestados(self) -> List[Libro]:\n",
        "        return list(self.__libros_prestados.values())\n",
        "\n",
        "    def set_nombre(self, nombre: str) -> None:\n",
        "        self.__nombre = nombre\n",
        "\n",
        "    def pedir_libro_prestado(self, libro: Libro) -> None:\n",
        "        isbn = libro.get_isbn()\n",
        "        if isbn in self.__libros_prestados:\n",
        "            raise ValueError('El usuario ya tiene este libro prestado.')\n",
        "        try:\n",
        "            libro.prestar()\n",
        "            self.__libros_prestados[isbn] = libro\n",
        "        except ValueError as e:\n",
        "            raise ValueError(f'No se pudo prestar el libro: {e}')\n",
        "\n",
        "    def devolver_libro_prestado(self, libro: Libro) -> None:\n",
        "        isbn = libro.get_isbn()\n",
        "        if isbn not in self.__libros_prestados:\n",
        "            raise ValueError('El usuario no tiene este libro prestado.')\n",
        "        try:\n",
        "            libro.devolver()\n",
        "            del self.__libros_prestados[isbn]\n",
        "        except ValueError as e:\n",
        "            raise ValueError(f'No se pudo devolver el libro: {e}')\n",
        "\n",
        "    def ver_libros_prestados(self) -> str:\n",
        "        if not self.__libros_prestados:\n",
        "            return 'No tienes libros prestados actualmente'\n",
        "        libros = f\"\\nLibros Prestados - {self.__nombre}:\\n\"\n",
        "        libros += '=' * 50 + '\\n'\n",
        "        for libro in self.__libros_prestados.values():\n",
        "            libros += f\"{libro}\\n\"\n",
        "            libros += '-' * 50 + '\\n'\n",
        "        return libros\n",
        "\n",
        "    def __str__(self) -> str:\n",
        "        return f\"{self.__nombre} (DNI: {self.__dni})\""
      ]
    },
    {
      "cell_type": "markdown",
      "metadata": {},
      "source": [
        "## 3) Demo paso a paso\n",
        "Observá cómo `__libros_prestados` empieza vacío y se va actualizando por ISBN.\n"
      ]
    },
    {
      "cell_type": "code",
      "execution_count": null,
      "metadata": {},
      "outputs": [],
      "source": [
        "# Creamos libros y un usuario\n",
        "libro1 = Libro('1984', 'Orwell', 'ISBN-1984', 'Debolsillo')\n",
        "libro2 = Libro('Fahrenheit 451', 'Bradbury', 'ISBN-0451', 'Minotauro')\n",
        "ana = Usuario('Ana', '12345678')\n",
        "\n",
        "print(ana)\n",
        "print(ana.ver_libros_prestados())  # vacío\n",
        "\n",
        "# Ana pide el primer libro\n",
        "ana.pedir_libro_prestado(libro1)\n",
        "print(ana.ver_libros_prestados())\n",
        "\n",
        "# Ana pide el segundo libro\n",
        "ana.pedir_libro_prestado(libro2)\n",
        "print(ana.ver_libros_prestados())\n",
        "\n",
        "# Devuelve el primero\n",
        "ana.devolver_libro_prestado(libro1)\n",
        "print(ana.ver_libros_prestados())"
      ]
    },
    {
      "cell_type": "markdown",
      "metadata": {},
      "source": [
        "## 4) Errores controlados (excepciones)\n",
        "Probá cada caso para ver el `ValueError` correspondiente y entender la validación:\n",
        "- Prestar dos veces el **mismo** libro al **mismo** usuario.\n",
        "- Pedir un libro que **ya está prestado** a otra persona.\n",
        "- Devolver un libro que **no tenés**.\n"
      ]
    },
    {
      "cell_type": "code",
      "execution_count": null,
      "metadata": {},
      "outputs": [],
      "source": [
        "otro = Usuario('Beto', '22222222')\n",
        "\n",
        "# Caso 1: mismo usuario intenta prestar 2 veces el mismo libro\n",
        "try:\n",
        "    ana.pedir_libro_prestado(libro2)\n",
        "except ValueError as e:\n",
        "    print('Caso 1 ->', e)\n",
        "\n",
        "# Caso 2: libro ya prestado a Ana, ahora lo pide Beto\n",
        "try:\n",
        "    otro.pedir_libro_prestado(libro2)\n",
        "except ValueError as e:\n",
        "    print('Caso 2 ->', e)\n",
        "\n",
        "# Caso 3: Beto intenta devolver un libro que no tiene\n",
        "try:\n",
        "    otro.devolver_libro_prestado(libro2)\n",
        "except ValueError as e:\n",
        "    print('Caso 3 ->', e)"
      ]
    }
  ],
  "metadata": {
    "kernelspec": {
      "display_name": "Python 3",
      "language": "python",
      "name": "python3"
    },
    "language_info": {
      "name": "python",
      "version": "3.x"
    }
  },
  "nbformat": 4,
  "nbformat_minor": 5
}
