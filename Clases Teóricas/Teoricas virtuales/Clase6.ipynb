{
 "cells": [
  {
   "cell_type": "markdown",
   "id": "e53c8d33",
   "metadata": {},
   "source": [
    "## Que es una cola?\n",
    "\n",
    "- First in First out\n",
    "- Secuencia con objetos uno detras del otro     \n",
    "- Implementacion con memoria dinamica\n",
    "- Caso particular de la estructura lista \n",
    "- Son objetos y estan compuesta por nodos (objetos instanciados)\n",
    "- Todos los elementos almacenados en la estructura son del mismo tipo\n",
    "- Las colas se caracterizan porque la insercion se hace por un extremo y la eliminacion se hace por el otro extremo\n",
    "- Las operaciones basicas sobre pilas son: encolar, desencolar, verificar si esta vacia, obtener el valor al inicio de la cola \n",
    "- Podemos generarlas tanto en listas secuenciales como en enlazadas"
   ]
  },
  {
   "cell_type": "markdown",
   "id": "3beb7e6a",
   "metadata": {},
   "source": [
    "## Pilas\n",
    "\n",
    "- Estructuras de Datos lineal llamada LIFO. LAST IN FIRST OUT\n",
    "- Implementacion con memoria dinamica \n",
    "- Caso particular de la estructura lista\n",
    "- Son objetos y estan compuestas por nodos (objetos instanciados)\n",
    "- Todos los elementos almacenados en la estructura son del mismo tipo\n",
    "- Las pilas se caracterizan porque la insercion y la eliminacion de los datos se hacen solamente en un extremo de la estructura\n",
    "- Las operaciones basicas sobre las pilas son: apilar, desapilar, verificar si esta vacia, obtener el valor encima de la pila\n"
   ]
  },
  {
   "cell_type": "markdown",
   "id": "ab22b100",
   "metadata": {},
   "source": [
    "## Tuplas\n",
    "\n",
    "- Son una estructura de datos muy similar a las listas de listas \n",
    "- Son tipo secuencial, pueden almacenar diferentes tiposd e datos, donde los elementos estan almacenados en posiciones de memoria continuas \n",
    "- Sonestructuras de datos inmutables lo que significa que los valores de una tupla no se pueden modificar en el tiempo de ejecucion, solo se pueden leer\n",
    "- Se puede acceder a los elementos de una tupla a traves del indice\n",
    "- Las tuplas pueden ser anidadas, es decir, podemos tener tuplas de tuplas asi como tenemos listas de listas"
   ]
  }
 ],
 "metadata": {
  "language_info": {
   "name": "python"
  }
 },
 "nbformat": 4,
 "nbformat_minor": 5
}
