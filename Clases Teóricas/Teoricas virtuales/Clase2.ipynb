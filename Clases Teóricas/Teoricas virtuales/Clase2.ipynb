{
 "cells": [
  {
   "cell_type": "markdown",
   "id": "8a7b5d6e",
   "metadata": {},
   "source": [
    "EXCEPCIONES"
   ]
  },
  {
   "cell_type": "code",
   "execution_count": 2,
   "id": "b354391f",
   "metadata": {},
   "outputs": [
    {
     "name": "stdout",
     "output_type": "stream",
     "text": [
      "2\n"
     ]
    }
   ],
   "source": [
    "def index(lista,valor):\n",
    "    for i, v in enumerate(lista):\n",
    "        if v == valor:\n",
    "            return i\n",
    "    \n",
    "    return -1\n",
    "\n",
    "indice = index([1,2,4,5],4)\n",
    "print(indice)"
   ]
  },
  {
   "cell_type": "code",
   "execution_count": null,
   "id": "961a88c4",
   "metadata": {},
   "outputs": [],
   "source": [
    "# Logico \n",
    "\n",
    "numeros = [10,20,30]\n",
    "promedio = sum(numeros)/len(numeros)-1\n",
    "print(promedio)"
   ]
  },
  {
   "cell_type": "code",
   "execution_count": null,
   "id": "deda5c9f",
   "metadata": {},
   "outputs": [
    {
     "name": "stdout",
     "output_type": "stream",
     "text": [
      "Ocurrio un error invalid literal for int() with base 10: 'codigo'\n"
     ]
    }
   ],
   "source": [
    "# Excepction\n",
    "    # Sintaxis\n",
    "    \n",
    "    # try: codigo que puede generar un error\n",
    "    # except: codigo que se ejecuta si ocurre un error. Generales \n",
    "    \n",
    "        # - NameError: error de nombre\n",
    "        # - TypeError: error de tipo\n",
    "        # - ValueError: error de valor \n",
    "        # - ZeroDivisionError: error de division por cero\n",
    "        # - FileNorFoundError: archivo no encontrado \n",
    "\n",
    "\n",
    "try: \n",
    "    edad = int(input('Ingrese su codigo: '))\n",
    "except ValueError: #cuando el usuario introduce el valor todo tipo de dato es tipo str (cadena)\n",
    "    #El problema esta en que no puedo convertirlo a un dato de tipo entero\n",
    "    print('Deber ingresar un numero entero')\n",
    "except Exception as e:\n",
    "    print('Ocurrio un error',e)"
   ]
  },
  {
   "cell_type": "code",
   "execution_count": null,
   "id": "dbc34532",
   "metadata": {},
   "outputs": [],
   "source": [
    "#Ejemplo de TypeError\n",
    "\n",
    "suma = 8 + 'hola'\n",
    "print(suma)"
   ]
  },
  {
   "cell_type": "code",
   "execution_count": 10,
   "id": "3ece7b1b",
   "metadata": {},
   "outputs": [
    {
     "name": "stdout",
     "output_type": "stream",
     "text": [
      "Help on function dividir in module __main__:\n",
      "\n",
      "dividir(a, b)\n",
      "    Esta funcion divide dos numeros y vamos a manejar los posibles errores de \n",
      "    division por cero y tipos de datos erroneos\n",
      "    Parametros: son dos parametros, deben ser de tipo entero\n",
      "    Funcionalidad: En la clase de matematica operadores logicos\n",
      "\n",
      "Help on built-in function sum in module builtins:\n",
      "\n",
      "sum(iterable, /, start=0)\n",
      "    Return the sum of a 'start' value (default: 0) plus an iterable of numbers\n",
      "    \n",
      "    When the iterable is empty, return the start value.\n",
      "    This function is intended specifically for use with numeric values and may\n",
      "    reject non-numeric types.\n",
      "\n"
     ]
    }
   ],
   "source": [
    "def dividir(a,b): \n",
    "    '''Esta funcion divide dos numeros y vamos a manejar los posibles errores de \n",
    "    division por cero y tipos de datos erroneos\n",
    "    Parametros: son dos parametros, deben ser de tipo entero\n",
    "    Funcionalidad: En la clase de matematica operadores logicos'''\n",
    "    \n",
    "    pass\n",
    "\n",
    "help(dividir)\n",
    "\n",
    "# A partir de help podemos ver el comentario dentro de la funcion \n",
    "# para saber que es lo que hace \n",
    "\n",
    "help(sum)\n",
    "    "
   ]
  },
  {
   "cell_type": "code",
   "execution_count": null,
   "id": "404cec2b",
   "metadata": {},
   "outputs": [],
   "source": [
    "def dividir(a,b): \n",
    "    '''Esta funcion divide dos numeros y vamos a manejar los posibles errores de \n",
    "    division por cero y tipos de datos erroneos\n",
    "    Parametros: son dos parametros, deben ser de tipo entero\n",
    "    Funcionalidad: En la clase de matematica operadores logicos'''\n",
    "    \n",
    "    try:\n",
    "        return a/b\n",
    "    \n",
    "    except ZeroDivisionError:\n",
    "        print('El valor de la variable b no puede ser CERO')\n",
    "    \n",
    "    except TypeError:\n",
    "        print('Los valores introducidos deben ser numericos')\n",
    "    \n",
    "    except Exception as error:\n",
    "        print('Error no esperado')\n",
    "\n",
    "print(dividir(4,0))\n",
    " #Devuelve None porque la funcion no tiene un return"
   ]
  },
  {
   "cell_type": "code",
   "execution_count": 14,
   "id": "ea9b6f91",
   "metadata": {},
   "outputs": [
    {
     "name": "stdout",
     "output_type": "stream",
     "text": [
      "Se termino el intento de ejecucion de la funcion dividir\n",
      "0.5\n"
     ]
    }
   ],
   "source": [
    "def dividir(a,b): \n",
    "    '''Esta funcion divide dos numeros y vamos a manejar los posibles errores de \n",
    "    division por cero y tipos de datos erroneos\n",
    "    Parametros: son dos parametros, deben ser de tipo entero\n",
    "    Funcionalidad: En la clase de matematica operadores logicos'''\n",
    "    \n",
    "    try:\n",
    "        return a/b\n",
    "    \n",
    "    except ZeroDivisionError:\n",
    "        print('El valor de la variable b no puede ser CERO')\n",
    "    \n",
    "    except TypeError:\n",
    "        print('Los valores introducidos deben ser numericos')\n",
    "    \n",
    "    except Exception as error:\n",
    "        print('Error no esperado')\n",
    "    \n",
    "    # Si no ocurrio ninguna exception entonces entra el else\n",
    "    else:\n",
    "        return division\n",
    "    \n",
    "    # Se ejecuta si on no haya error\n",
    "    finally: \n",
    "        print('Se termino el intento de ejecucion de la funcion dividir')\n",
    "\n",
    "print(dividir(4,8))\n",
    " \n",
    "        "
   ]
  },
  {
   "cell_type": "markdown",
   "id": "2f8c0e44",
   "metadata": {},
   "source": [
    "Validar los atributos a partir de los cuales voy a hacer el objeto "
   ]
  },
  {
   "cell_type": "markdown",
   "id": "a7f53328",
   "metadata": {},
   "source": [
    "GENERAR MIS ERRORES (Raise)"
   ]
  },
  {
   "cell_type": "code",
   "execution_count": 16,
   "id": "18cafd14",
   "metadata": {},
   "outputs": [
    {
     "name": "stdout",
     "output_type": "stream",
     "text": [
      "La contraseña es invalida La contrasena debe ser al menor una mayuscula\n"
     ]
    }
   ],
   "source": [
    "# Validar contraseña\n",
    "    # - Al menos 8 caracteres\n",
    "    # - Al menos una mayuscula \n",
    "    # - Al menos un numero\n",
    "    # - Al menos un caracter especial \n",
    "\n",
    "import string\n",
    "\n",
    "def validar_contraseña(constraseña):\n",
    "    \n",
    "    if len(constraseña) < 8:\n",
    "        raise ValueError('La contraseña debe ser al menos de longitud 8')\n",
    "    \n",
    "    # Si quiero verificar que hay al menos una mayuscula entonces genero una lista con \n",
    "    # todas las letras mayusculas. Si esa lista esta vacia entonces no hay ninguna mayuscula\n",
    "    if list(filter(lambda x: x in string.ascii_uppercase,constraseña)) == []:\n",
    "        raise ValueError('La contrasena debe ser al menor una mayuscula') \n",
    "    \n",
    "    if list(filter(lambda x: x in string.digits,constraseña)) == []:\n",
    "        raise ValueError('La contrasena debe ser al menor una mayuscula')\n",
    "    \n",
    "    if list(filter(lambda x: x in string.punctuation,constraseña)) == []:\n",
    "        raise ValueError('La contrasena debe ser al menor una mayuscula')\n",
    "    \n",
    "    return True\n",
    "\n",
    "try: \n",
    "    validar_contraseña('constraseña')\n",
    "\n",
    "except ValueError as e:\n",
    "    print('La contraseña es invalida',e)\n",
    "    "
   ]
  },
  {
   "cell_type": "markdown",
   "id": "fc2fd18c",
   "metadata": {},
   "source": [
    "    En una biblioteca se maneja un registro de libros y usuarios. Cada libro cuenta con informacion relevante como titulo, autor, editorial y un estado que indica si esta disponible o prestado. \n",
    "\n",
    "- Atributos:\n",
    "1. Titulo\n",
    "2. Autor\n",
    "3. Editorial\n",
    "4. Estado (disponible/prestado)\n",
    "\n",
    "- Metodos:\n",
    "1. constructor (particulariza cada atributo y al particularizarlos crea un libro) → instancias →  crean el objeto\n",
    "2. visualizacion de objetos \n",
    "\n",
    "DEFINICIONES\n",
    "- Gesters: obtener valores de atributos\n",
    "- Seters: cambiar valores de atributos\n",
    "(mirar en apunte)\n",
    "-----------------------------------------------------------------------------\n",
    "\n",
    "    Los usuarios, por su parte, tienen un registro con su nombre, su identificacion y los libros que han tomado prestados. \n",
    "\n",
    "-----------------------------------------------------------------------------\n",
    "    La biblioteca organiza y administra esta interaccion entre usuarios y libros, permitiendo prestar libros y registrar devoluciones, asi como consultar los datos necesarios sobre usuarios y libros disponibles. \n",
    "\n",
    "-----------------------------------------------------------------------------\n",
    "\n",
    "    La biblioteca debe ser capaz de:\n",
    "        1. Registrar y organizar los libros disponibles\n",
    "        2. Registrar y organizar informacion de los usuarios\n",
    "        3. Gestionar los prestamos y devoluciones de los libros\n",
    "\n",
    "    Con esta descripcion, diseñe un sistema que represente como funciona la biblioteca usando las herramientas necesarias para modelar las componentes principales (como libros, usuarios y la biblioteca misma)"
   ]
  },
  {
   "cell_type": "markdown",
   "id": "5ae2a1aa",
   "metadata": {},
   "source": [
    "→ Toda clase tiene metodos y atributos (tareas y caracteristicas)\n",
    "→ Toda accion es un metodo"
   ]
  },
  {
   "cell_type": "code",
   "execution_count": null,
   "id": "9f34a517",
   "metadata": {},
   "outputs": [],
   "source": [
    "PARA LA CLASE LIBRO \n",
    "\n",
    "Si presto un libro → saber si esta → saber en que estado \n",
    "\n",
    "Devolver →  cambiar el estado de prestado a disponible "
   ]
  }
 ],
 "metadata": {
  "kernelspec": {
   "display_name": "Python 3",
   "language": "python",
   "name": "python3"
  },
  "language_info": {
   "codemirror_mode": {
    "name": "ipython",
    "version": 3
   },
   "file_extension": ".py",
   "mimetype": "text/x-python",
   "name": "python",
   "nbconvert_exporter": "python",
   "pygments_lexer": "ipython3",
   "version": "3.11.9"
  }
 },
 "nbformat": 4,
 "nbformat_minor": 5
}
