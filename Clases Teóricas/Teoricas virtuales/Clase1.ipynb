{
 "cells": [
  {
   "cell_type": "code",
   "execution_count": null,
   "id": "5029b073",
   "metadata": {},
   "outputs": [],
   "source": [
    "def saludarEstudiante(nombre):\n",
    "    print(f'Hola {nombre}, soy estudiante de ITBA')\n",
    "\n",
    "def esMayorDeEdad(edad):\n",
    "    if edad >= 18:\n",
    "        return True\n",
    "    \n",
    "    else:\n",
    "        return False\n",
    "    \n",
    "\n",
    "nombreEstudiante = input('Ingrese su nombre: ')\n",
    "edadEstudiante = int(input('Ingrese su edad: '))"
   ]
  },
  {
   "cell_type": "markdown",
   "id": "574d9a86",
   "metadata": {},
   "source": [
    "\n",
    "\n",
    "Simular \n",
    "- el comportamiento lo podemos evaluar solamente llamando la funcion\n",
    "\n",
    "\n",
    "Paradigma de POD (Paradigma de la programacion orientada a objetos)\n",
    "\n",
    "- Crea objeto que usa plantilla: los atributos propios y comportamientos de los objetos -> reciben el nombre de metodos en Python \n",
    "\n",
    "- Metodos -> mismas funciones -> asociados al comportamiento de un objeto definido o sea a un TIPO DE DATO\n",
    "\n",
    "- Para crear el tipo de dato debemos crear una plantilla \n",
    "\n",
    "- El tipo de dato siempre debe ir con mayuscula \n",
    "\n",
    "- El objeto puede usar mas de una clase\n",
    "\n",
    "- Las clases permiten modelar elementos del mundo real \n",
    "\n"
   ]
  },
  {
   "cell_type": "code",
   "execution_count": null,
   "id": "ac071243",
   "metadata": {},
   "outputs": [],
   "source": [
    "#plantilla class \n",
    "\n",
    "class Estudiante:\n",
    "    #definir los atributos o caracteristicas propias del tipo de dato(nombre,edad)\n",
    "    #representa todos los elementos que cumplen con la caracteristica \n",
    "    #comportamiento o metodos (saludar,esMayorDeEdad, notas)\n",
    "    pass\n",
    "\n",
    "# Variable -> almacena el objeto\n",
    "nombre = 'Constanza'    #esto le da el valor de objeto a la clase \n",
    "edad = 18\n",
    "\n",
    "estudiante = Estudiante()\n",
    "    "
   ]
  },
  {
   "cell_type": "markdown",
   "id": "481e48f9",
   "metadata": {},
   "source": [
    "Metodos\n",
    "\n",
    "- Pertenencia a una clase u objeto: son funciones que están asociadas con objetos específicos o clases. Se definen dentro de una clase y actúan sobre instancias de esa clase\n",
    "\n",
    "- Acceso a los atributos: \n",
    "Pueden acceder a los atributos (variables) de la clase y trabajar con ellos. Pueden modoficar el estado interno de un objeto \n",
    "\n",
    "- Invocación:\n",
    "Se invocan en el contexto de un objeto particular\n",
    "Pueden acceder a otros métodos y atributos de ese objeto \n",
    "\n",
    "- Palabra clave"
   ]
  },
  {
   "cell_type": "markdown",
   "id": "3810e42c",
   "metadata": {},
   "source": [
    "- Defino los metodos dentro de la clase \n",
    "\n",
    "- Objetos\n",
    "    - cadenas, numeros, booleanos, ...\n",
    "    - libros: titulo, autor, material\n",
    "    - comportamiento: leer, abrir, cerrar"
   ]
  },
  {
   "cell_type": "code",
   "execution_count": null,
   "id": "afb10f90",
   "metadata": {},
   "outputs": [
    {
     "name": "stdout",
     "output_type": "stream",
     "text": [
      "<class 'str'>\n"
     ]
    }
   ],
   "source": [
    "def esMayorDeEdad():\n",
    "    pass\n",
    "\n",
    "nombreEstudiante = input('Ingrese su nombre: ')\n",
    "edadEstudiante = int(input('Ingrese su edad: '))\n",
    "\n",
    "class Estudiante:\n",
    "    pass\n",
    "\n",
    "print(type(nombreEstudiante))\n",
    "print(type(edadEstudiante))\n",
    "print(type(esMayorDeEdad))\n",
    "\n",
    "# imprime → <class 'str'>\n",
    "# imprime → <class 'int'>\n",
    "# imprime → <class 'function'>\n",
    "\n",
    "\n"
   ]
  },
  {
   "cell_type": "code",
   "execution_count": null,
   "id": "c3d14bd5",
   "metadata": {},
   "outputs": [
    {
     "name": "stdout",
     "output_type": "stream",
     "text": [
      "['__abs__', '__add__', '__and__', '__bool__', '__ceil__', '__class__', '__delattr__', '__dir__', '__divmod__', '__doc__', '__eq__', '__float__', '__floor__', '__floordiv__', '__format__', '__ge__', '__getattribute__', '__getnewargs__', '__getstate__', '__gt__', '__hash__', '__index__', '__init__', '__init_subclass__', '__int__', '__invert__', '__le__', '__lshift__', '__lt__', '__mod__', '__mul__', '__ne__', '__neg__', '__new__', '__or__', '__pos__', '__pow__', '__radd__', '__rand__', '__rdivmod__', '__reduce__', '__reduce_ex__', '__repr__', '__rfloordiv__', '__rlshift__', '__rmod__', '__rmul__', '__ror__', '__round__', '__rpow__', '__rrshift__', '__rshift__', '__rsub__', '__rtruediv__', '__rxor__', '__setattr__', '__sizeof__', '__str__', '__sub__', '__subclasshook__', '__truediv__', '__trunc__', '__xor__', 'as_integer_ratio', 'bit_count', 'bit_length', 'conjugate', 'denominator', 'from_bytes', 'imag', 'numerator', 'real', 'to_bytes']\n",
      "['__add__', '__class__', '__contains__', '__delattr__', '__dir__', '__doc__', '__eq__', '__format__', '__ge__', '__getattribute__', '__getitem__', '__getnewargs__', '__getstate__', '__gt__', '__hash__', '__init__', '__init_subclass__', '__iter__', '__le__', '__len__', '__lt__', '__mod__', '__mul__', '__ne__', '__new__', '__reduce__', '__reduce_ex__', '__repr__', '__rmod__', '__rmul__', '__setattr__', '__sizeof__', '__str__', '__subclasshook__', 'capitalize', 'casefold', 'center', 'count', 'encode', 'endswith', 'expandtabs', 'find', 'format', 'format_map', 'index', 'isalnum', 'isalpha', 'isascii', 'isdecimal', 'isdigit', 'isidentifier', 'islower', 'isnumeric', 'isprintable', 'isspace', 'istitle', 'isupper', 'join', 'ljust', 'lower', 'lstrip', 'maketrans', 'partition', 'removeprefix', 'removesuffix', 'replace', 'rfind', 'rindex', 'rjust', 'rpartition', 'rsplit', 'rstrip', 'split', 'splitlines', 'startswith', 'strip', 'swapcase', 'title', 'translate', 'upper', 'zfill']\n"
     ]
    }
   ],
   "source": [
    "# Propiedades y comportamientos que puedo hacer con los enteros \n",
    "# Nos indica que comportamientos puede tener una funcion\n",
    "print(dir(int))\n",
    "\n",
    "print(dir(str))\n",
    "\n",
    "print(dir(bool))"
   ]
  },
  {
   "cell_type": "markdown",
   "id": "64bfc2a9",
   "metadata": {},
   "source": [
    "- Los numeros no tienen una longitud porque no son una secuencia"
   ]
  },
  {
   "cell_type": "code",
   "execution_count": null,
   "id": "0bed7125",
   "metadata": {},
   "outputs": [
    {
     "name": "stdout",
     "output_type": "stream",
     "text": [
      "['__add__', '__class__', '__class_getitem__', '__contains__', '__delattr__', '__delitem__', '__dir__', '__doc__', '__eq__', '__format__', '__ge__', '__getattribute__', '__getitem__', '__getstate__', '__gt__', '__hash__', '__iadd__', '__imul__', '__init__', '__init_subclass__', '__iter__', '__le__', '__len__', '__lt__', '__mul__', '__ne__', '__new__', '__reduce__', '__reduce_ex__', '__repr__', '__reversed__', '__rmul__', '__setattr__', '__setitem__', '__sizeof__', '__str__', '__subclasshook__', 'append', 'clear', 'copy', 'count', 'extend', 'index', 'insert', 'pop', 'remove', 'reverse', 'sort']\n"
     ]
    }
   ],
   "source": [
    "print(dir(list))\n",
    "\n",
    "listaNumeros = [1,2,3,4,5]\n",
    "listaNumeros.append(6)\n",
    "\n",
    "#El metodo append esta asociado al tipo de dato list"
   ]
  },
  {
   "cell_type": "code",
   "execution_count": null,
   "id": "83f3b809",
   "metadata": {},
   "outputs": [
    {
     "name": "stdout",
     "output_type": "stream",
     "text": [
      "[1, 2, 3, 4, 5, 6, 7, 8]\n",
      "[1, 2, 3, 4, 5, 6, 7, 8, [6, 7, 8]]\n"
     ]
    }
   ],
   "source": [
    "listaNumeros = [1,2,3,4,5]\n",
    "\n",
    "listaNumeros.extend([6,7,8])   # almacenar mas de un dato a una lista\n",
    "print(listaNumeros)\n",
    "listaNumeros.append([6,7,8])\n",
    "print(listaNumeros)\n",
    "\n",
    "# → [1, 2, 3, 4, 5, 6, 7, 8]\n",
    "# → [1, 2, 3, 4, 5, 6, 7, 8, [6, 7, 8]]\n",
    "\n"
   ]
  },
  {
   "cell_type": "markdown",
   "id": "64ecfdf9",
   "metadata": {},
   "source": [
    "Mutabilidad e Inmutabilidad \n",
    "\n",
    "# (Muy importante para el Final)\n",
    "- Python es autonomo en el manejo de la memoria \n",
    "- Como usuarios no tenemos ningun tipo de injerencia en la manipulacion de la memoria \n",
    "- La ubicacion del objeto en la memoria solamente la maneja Python \n",
    "- Los datos que dejamos de utilizar en un momento dado no hay que preocuparse porque usamos la memoria de forma ilogica porque Python se encarga de eso (libera espacios de memoria)\n",
    "- Para datos repetitivos se ubican en determinada posicion de memoria \n",
    "- Si cambio el valor almacenado en un objeto, Python (como tinene asignadas las posiciones de memoria) entonces la variable apunta a una direccion de memoria diferente → Inmutabilidad → no intento cambiar en tiempo de ejecucion \n",
    "\n",
    "----------------------------------------------------------------------------\n",
    "Inmutabilidad: str, int, float, bool, tuple \n",
    " → cuando cambio el valor cambio la direccion \n",
    "\n",
    "Mutabilidad: listas, diccionarios, conjuntos, pilas, colas, arboles, grafos, listas enlazadas\n",
    " → puedo cambiarlo durante el tiempo de ejecucion y ese cambio permanece \n",
    " → no importa que valores grabe en el tiempo de ejecucion → sigue siendo el mismo id (pues en el caso de listas por ej. se modifica sobre la original. Como no la perdemos? Generamos una copia)\n"
   ]
  },
  {
   "cell_type": "code",
   "execution_count": null,
   "id": "f48dd350",
   "metadata": {},
   "outputs": [
    {
     "name": "stdout",
     "output_type": "stream",
     "text": [
      "2042167870640\n",
      "hola mundo\n",
      "2042168465968\n"
     ]
    }
   ],
   "source": [
    "# Inmutabilidad \n",
    "\n",
    "cadena = 'Hola mundo' # Inmutable → durante tiempo de ejecucion no se puede cambiar \n",
    "print(id(cadena))     \n",
    "    # direccion de memoria: 2042167870640\n",
    "\n",
    "#cadena[0] = 'h'  → No se puede hacer, es un str no una lista \n",
    "\n",
    "cadena = 'h'+cadena[1:]\n",
    "print(cadena)\n",
    "print(id(cadena))\n",
    "    # direccion de memoria: 2042168465968\n",
    "\n",
    "# Cambiar la direccion de una variable "
   ]
  },
  {
   "cell_type": "code",
   "execution_count": null,
   "id": "f0d7ab2b",
   "metadata": {},
   "outputs": [
    {
     "name": "stdout",
     "output_type": "stream",
     "text": [
      "140732209528072\n",
      "140732209528072\n"
     ]
    }
   ],
   "source": [
    "# Inmutabilidad \n",
    "print(id(80))      # aca ya se asocia a una direccion \n",
    "\n",
    "dato  = 80         # la variable dato direccionada a la ubicacion de 80\n",
    "print(id(dato))"
   ]
  },
  {
   "cell_type": "code",
   "execution_count": null,
   "id": "b4af5d44",
   "metadata": {},
   "outputs": [
    {
     "name": "stdout",
     "output_type": "stream",
     "text": [
      "2042167906496\n",
      "[1, 2, 3, 4, 5, 6, 7, 8]\n",
      "2042167906496\n",
      "[1, 2, 3, 4, 5, 6, 7, 8, [6, 7, 8]]\n",
      "2042167906496\n"
     ]
    }
   ],
   "source": [
    "# Mutabilidad \n",
    "\n",
    "listaNumeros = [1,2,3,4,5]\n",
    "print(id(listaNumeros))\n",
    "\n",
    "listaNumeros.extend([6,7,8])   # almacenar mas de un dato a una lista\n",
    "print(listaNumeros)\n",
    "print(id(listaNumeros))\n",
    "\n",
    "listaNumeros.append([6,7,8])\n",
    "print(listaNumeros)\n",
    "print(id(listaNumeros))\n",
    "\n"
   ]
  },
  {
   "cell_type": "code",
   "execution_count": null,
   "id": "609710b0",
   "metadata": {},
   "outputs": [],
   "source": [
    "# Copia de Listas \n",
    "\n",
    "copia = listaNumeros[:]\n",
    "copia = listaNumeros.copy()"
   ]
  },
  {
   "cell_type": "markdown",
   "id": "be0638dc",
   "metadata": {},
   "source": [
    "# Cuantos objetos hay? [8,8,8,8]\n",
    "    Clase 1: lista\n",
    "    Clase 2: numero\n",
    "\n",
    "- El numero 8 se dirige al mismo iD →  todos los numeros 8 son el mismo objeto\n",
    "\n",
    "    Respuesta: 2\n",
    "\n",
    "# RECORDAR → Objeto → define un valor ESPECIFICO \n",
    "# OBJETOS DISTINTOS ID DISTINTOS"
   ]
  },
  {
   "cell_type": "markdown",
   "id": "c96edd32",
   "metadata": {},
   "source": [
    "- sort: ordenamiento\n",
    "- find: encontrar elemento\n",
    "- index: indice de un elemento\n",
    "- count: contar "
   ]
  },
  {
   "cell_type": "markdown",
   "id": "e32c102c",
   "metadata": {},
   "source": [
    "Paso 1 Determinar las caracteristicas\n",
    "Paso 2 Determinar las tareas que debe hacer\n",
    "Paso 3 Crear las plantillas (Clases)\n",
    "Paso 4 Crear objetos "
   ]
  },
  {
   "cell_type": "code",
   "execution_count": 17,
   "id": "100dd4cb",
   "metadata": {},
   "outputs": [
    {
     "name": "stdout",
     "output_type": "stream",
     "text": [
      "11\n",
      "11\n"
     ]
    }
   ],
   "source": [
    "# Funcion lambda\n",
    "# uso 1 \n",
    "suma = lambda x, y: x + y\n",
    "z = suma(5, 6)\n",
    "print(z)\n",
    "\n",
    "# uso 2\n",
    "z = (lambda x, y: x + y)(5, 6)\n",
    "print(z)\n",
    "\n"
   ]
  },
  {
   "cell_type": "code",
   "execution_count": 6,
   "id": "bf5d3bb8",
   "metadata": {},
   "outputs": [
    {
     "name": "stdout",
     "output_type": "stream",
     "text": [
      "abcdefghijklmnopqrstuvwxyzABCDEFGHIJKLMNOPQRSTUVWXYZ\n",
      "abcdefghijklmnopqrstuvwxyz\n",
      "ABCDEFGHIJKLMNOPQRSTUVWXYZ\n",
      "!\"#$%&'()*+,-./:;<=>?@[\\]^_`{|}~\n",
      " \t\n",
      "\u000b\f\n",
      "0123456789\n",
      "0123456789abcdefABCDEF\n"
     ]
    }
   ],
   "source": [
    "import string\n",
    "\n",
    "print(string.ascii_letters)\n",
    "print(string.ascii_lowercase)\n",
    "print(string.ascii_uppercase)\n",
    "print(string.punctuation)\n",
    "print(string.whitespace)\n",
    "print(string.digits)\n",
    "print(string.hexdigits)\n",
    "\n",
    "\n"
   ]
  }
 ],
 "metadata": {
  "kernelspec": {
   "display_name": "Python 3",
   "language": "python",
   "name": "python3"
  },
  "language_info": {
   "codemirror_mode": {
    "name": "ipython",
    "version": 3
   },
   "file_extension": ".py",
   "mimetype": "text/x-python",
   "name": "python",
   "nbconvert_exporter": "python",
   "pygments_lexer": "ipython3",
   "version": "3.11.9"
  }
 },
 "nbformat": 4,
 "nbformat_minor": 5
}
