{
 "cells": [
  {
   "cell_type": "markdown",
   "id": "5d67f370",
   "metadata": {},
   "source": [
    "### Arrays\n",
    "\n",
    "- Estructuras de datos secuencia, donde los elementos estan almacenados en posiciones de memoria continuas      \n",
    "\n",
    "- Es una estructura de datos muy similar a las listas, pero solo puede almacenar el mismo tipo de datos     \n",
    "\n",
    "- La libreria array permite crear estas estructuas de datos, que almacenan datos de tipo entero, decimal, entre otros       "
   ]
  },
  {
   "cell_type": "markdown",
   "id": "3cb8fadf",
   "metadata": {},
   "source": [
    "#### Arrays de Arrays\n",
    "\n",
    "- La libreria numPy permite crear estas estructuras de datos, que almacenan datos de tipo entero, decimal, entre otros      \n",
    "\n",
    "- La libreria numPy no esta predeterminada en Python, por lo cual, necesita ser instalada para su uso.      "
   ]
  },
  {
   "cell_type": "markdown",
   "id": "f98250ea",
   "metadata": {},
   "source": [
    "##### CREAR VECTOR"
   ]
  },
  {
   "cell_type": "code",
   "execution_count": 1,
   "id": "d724bb32",
   "metadata": {},
   "outputs": [
    {
     "name": "stdout",
     "output_type": "stream",
     "text": [
      "[1 2 3 4 5]\n"
     ]
    }
   ],
   "source": [
    "import numpy as np\n",
    "\n",
    "vector = np.array([1,2,3,4,5])\n",
    "print(vector)"
   ]
  },
  {
   "cell_type": "markdown",
   "id": "499c8884",
   "metadata": {},
   "source": [
    "#### CREAR MATRICES\n",
    "\n",
    "##### Array()"
   ]
  },
  {
   "cell_type": "code",
   "execution_count": null,
   "id": "e549b72d",
   "metadata": {},
   "outputs": [],
   "source": [
    "matriz = np.array([(1,2,3), (3,4,5)])\n",
    "print(matriz)\n",
    "\n",
    "for fila in matriz:\n",
    "    print(fila)"
   ]
  },
  {
   "cell_type": "markdown",
   "id": "ce989d18",
   "metadata": {},
   "source": [
    "\n",
    "| Concepto     | Qué hace                                     | Sintaxis general                             | Ejemplo / Salida          |\n",
    "|-------------|----------|----------|--------|\n",
    "| array        | Crea un arreglo homogéneo del módulo array   | array.array(tipo_dato, [elementos])          | array('i', [1, 2, 3]) → array('i', [1,2,3])  |\n",
    "| numpy.array  | Crea un array de NumPy (ndarray)             | np.array([elementos])                        | np.array([1,2,3]) → [1 2 3]                  |\n",
    "| numpy.empty  | Crea un array sin inicializar valores         | np.empty(formato, dtype=float)               | np.empty(3) → [x.xe-311 ...]                 |\n",
    "| numpy.zeros  | Crea un array lleno de ceros                 | np.zeros(formato, dtype=float)               | np.zeros((2,2)) → [[0. 0.] [0. 0.]]          |\n",
    "| numpy.ones   | Crea un array lleno de unos                  | np.ones(formato, dtype=float)                | np.ones((2,2)) → [[1. 1.] [1. 1.]]           |\n",
    "\n"
   ]
  },
  {
   "cell_type": "markdown",
   "id": "637dd0c0",
   "metadata": {},
   "source": [
    "#### Empty()"
   ]
  },
  {
   "cell_type": "code",
   "execution_count": 3,
   "id": "5007318b",
   "metadata": {},
   "outputs": [
    {
     "name": "stdout",
     "output_type": "stream",
     "text": [
      "[[1.06225067e-311 1.06135860e-311]\n",
      " [6.95271371e-310 0.00000000e+000]]\n"
     ]
    }
   ],
   "source": [
    "\n",
    "\n",
    "matriz_aleatoria = np.empty([2,2])\n",
    "print(matriz_aleatoria)"
   ]
  },
  {
   "cell_type": "code",
   "execution_count": null,
   "id": "c7cb71ec",
   "metadata": {},
   "outputs": [
    {
     "name": "stdout",
     "output_type": "stream",
     "text": [
      "[[  2150019301432   2148213730050]\n",
      " [140724492064216               0]]\n"
     ]
    }
   ],
   "source": [
    "matriz_aleatoria = np.empty([2,2], dtype = int)     # → si no especificamos nos toma como que es un tipo de dato decimal por default \n",
    "print(matriz_aleatoria)"
   ]
  },
  {
   "cell_type": "code",
   "execution_count": 5,
   "id": "3b680b61",
   "metadata": {},
   "outputs": [
    {
     "name": "stdout",
     "output_type": "stream",
     "text": [
      "[3.47739925e-81 1.13897400e-42 2.00546596e-52 2.33859743e-52\n",
      " 4.66301032e-33]\n"
     ]
    }
   ],
   "source": [
    "vectoraleatorio = np.empty(5)\n",
    "print(vectoraleatorio)"
   ]
  },
  {
   "cell_type": "markdown",
   "id": "658ceab9",
   "metadata": {},
   "source": [
    "##### Zeros()"
   ]
  },
  {
   "cell_type": "code",
   "execution_count": 6,
   "id": "68bd4b44",
   "metadata": {},
   "outputs": [
    {
     "name": "stdout",
     "output_type": "stream",
     "text": [
      "[[0 0 0]\n",
      " [0 0 0]]\n"
     ]
    }
   ],
   "source": [
    "matriceszeros = np.zeros([2,3], dtype=int)\n",
    "print(matriceszeros)"
   ]
  },
  {
   "cell_type": "markdown",
   "id": "6a62e444",
   "metadata": {},
   "source": [
    "##### Ones()"
   ]
  },
  {
   "cell_type": "code",
   "execution_count": 7,
   "id": "95aae1aa",
   "metadata": {},
   "outputs": [
    {
     "name": "stdout",
     "output_type": "stream",
     "text": [
      "[1. 1. 1. 1.]\n"
     ]
    }
   ],
   "source": [
    "vectorunos = np.ones(4)\n",
    "print(vectorunos)"
   ]
  },
  {
   "cell_type": "markdown",
   "id": "e7988470",
   "metadata": {},
   "source": [
    "##### Arange()\n",
    "\n",
    "- Que hace -> crea un array NumPy con valores en unrango numerico, equiespaciados (es decir, separados por un paso constante)\n",
    "\n",
    "- Funciona parecido a la funcion range() pero devuelve un array de NumPy no una lista\n",
    "\n",
    "- Sintaxis:     \n",
    "\n",
    "        numpy.arrange(inicio, fin, paso, dtype = None)\n",
    "\n",
    "    inicio → valor inicial del rango (por defecto 0)        \n",
    "    fin → valor hasta el cual genera (NO se incluye el final)           \n",
    "    paso → diferencia entre cada numero (por defecto 1 )         \n",
    "    dtype → tipo de dato opcional (opcional, ej : int, float)           "
   ]
  },
  {
   "cell_type": "code",
   "execution_count": 9,
   "id": "8bee8bc4",
   "metadata": {},
   "outputs": [
    {
     "name": "stdout",
     "output_type": "stream",
     "text": [
      "[0 2]\n"
     ]
    }
   ],
   "source": [
    "matriz1 =  np.arange(0,4,2)\n",
    "print(matriz1)\n"
   ]
  },
  {
   "cell_type": "markdown",
   "id": "a26dfedc",
   "metadata": {},
   "source": [
    "#### Reshape()\n",
    "\n",
    "- Permite que el vector que tenemos armado se organice de una forma diferente y lo queremos devolver como una matriz\n",
    "- Dimensiones\n"
   ]
  },
  {
   "cell_type": "code",
   "execution_count": 12,
   "id": "118aed8a",
   "metadata": {},
   "outputs": [
    {
     "name": "stdout",
     "output_type": "stream",
     "text": [
      "[0 1 2 3]\n"
     ]
    }
   ],
   "source": [
    "matriz1 = np.arange(4)\n",
    "print(matriz1)"
   ]
  },
  {
   "cell_type": "code",
   "execution_count": 10,
   "id": "7f5d7a60",
   "metadata": {},
   "outputs": [
    {
     "name": "stdout",
     "output_type": "stream",
     "text": [
      "[[0 1]\n",
      " [2 3]]\n"
     ]
    }
   ],
   "source": [
    "matriz1 = np.arange(4).reshape(2,2)\n",
    "print(matriz1)"
   ]
  },
  {
   "cell_type": "markdown",
   "id": "143abead",
   "metadata": {},
   "source": [
    "##### Sort()\n",
    "\n",
    "- Organiza sobre el mismo dato "
   ]
  },
  {
   "cell_type": "code",
   "execution_count": 13,
   "id": "13104371",
   "metadata": {},
   "outputs": [
    {
     "name": "stdout",
     "output_type": "stream",
     "text": [
      "[0 1 2 3]\n",
      "[0 1 2 3]\n"
     ]
    }
   ],
   "source": [
    "matriz1 = np.arange(0,4)\n",
    "print(matriz1)\n",
    "matriz1.sort()\n",
    "print(matriz1)"
   ]
  },
  {
   "cell_type": "code",
   "execution_count": null,
   "id": "596c8e7d",
   "metadata": {},
   "outputs": [
    {
     "name": "stdout",
     "output_type": "stream",
     "text": [
      "The sorted array is: \n",
      "[[ 5 11 12]\n",
      " [ 6 10 15]\n",
      " [ 8 10 12]\n",
      " [ 8 12 15]\n",
      " [34 78 90]]\n"
     ]
    }
   ],
   "source": [
    "a = np.array([[11,12,5], [15,6,10], [10,8,12], [12,15,8], [34,78,90]])\n",
    "\n",
    "sorted_array = np.sort(a)     # -> ordenamos la matriz -> la ordena por fila o sea por []\n",
    "print('The sorted array is: ')\n",
    "print(sorted_array)"
   ]
  },
  {
   "cell_type": "markdown",
   "id": "0bbaeb81",
   "metadata": {},
   "source": [
    "-> Por defecto -> organiza por filas \n",
    "\n",
    "-> Ahora lo que queremos es organizar por axis         \n",
    "\n",
    "        - Axis -> trabaja sobre las columnas \n"
   ]
  },
  {
   "cell_type": "code",
   "execution_count": null,
   "id": "3aed6007",
   "metadata": {},
   "outputs": [
    {
     "name": "stdout",
     "output_type": "stream",
     "text": [
      "The sorted array is: \n",
      "[[10  6  5]\n",
      " [11  8  8]\n",
      " [12 12 10]\n",
      " [15 15 12]\n",
      " [34 78 90]]\n"
     ]
    }
   ],
   "source": [
    "a = np.array([[11,12,5], [15,6,10], [10,8,12], [12,15,8], [34,78,90]])\n",
    "\n",
    "sorted_array = np.sort(a, axis = 0)     # -> ordenamos la matriz -> la ordena por columna\n",
    "print('The sorted array is: ')\n",
    "print(sorted_array)"
   ]
  },
  {
   "cell_type": "markdown",
   "id": "491c47bd",
   "metadata": {},
   "source": [
    "        Que pasa si escribimos la axis como None?\n",
    "- Toda la matriz la convierte en un array (vector) y la organiza \n"
   ]
  },
  {
   "cell_type": "code",
   "execution_count": 18,
   "id": "47e7823d",
   "metadata": {},
   "outputs": [
    {
     "name": "stdout",
     "output_type": "stream",
     "text": [
      "The sorted array is: \n",
      "[ 5  6  8  8 10 10 11 12 12 12 15 15 34 78 90]\n",
      "<class 'numpy.ndarray'>\n"
     ]
    }
   ],
   "source": [
    "a = np.array([[11,12,5], [15,6,10], [10,8,12], [12,15,8], [34,78,90]])\n",
    "\n",
    "sorted_array = np.sort(a, axis = None)    \n",
    "print('The sorted array is: ')\n",
    "print(sorted_array)\n",
    "print(type(sorted_array))"
   ]
  },
  {
   "cell_type": "markdown",
   "id": "498065d6",
   "metadata": {},
   "source": [
    "##### Sum()\n",
    "\n",
    "- Conocer todos los elementos de una matriz\n",
    "- Es un vector de vectores "
   ]
  },
  {
   "cell_type": "code",
   "execution_count": 19,
   "id": "6866e4b6",
   "metadata": {},
   "outputs": [
    {
     "name": "stdout",
     "output_type": "stream",
     "text": [
      "326\n"
     ]
    }
   ],
   "source": [
    "a = np.array([[11,12,5], [15,6,10], [10,8,12], [12,15,8], [34,78,90]])\n",
    "\n",
    "print(a.sum())"
   ]
  },
  {
   "cell_type": "markdown",
   "id": "2204ffd7",
   "metadata": {},
   "source": [
    "##### Max()\n",
    "\n",
    "- Obtiene el maximo elemento de una MATRIZ "
   ]
  },
  {
   "cell_type": "code",
   "execution_count": null,
   "id": "90017119",
   "metadata": {},
   "outputs": [],
   "source": [
    "a = np.array([[11,12,5], [15,6,10], [10,8,12], [12,15,8], [34,78,90]])\n",
    "\n",
    "print(a.max())"
   ]
  },
  {
   "cell_type": "markdown",
   "id": "dcff8096",
   "metadata": {},
   "source": [
    "##### Min()\n",
    "\n",
    "- Obtiene el minimo elemento de una MATRIZ "
   ]
  },
  {
   "cell_type": "code",
   "execution_count": 20,
   "id": "c8c9b4a7",
   "metadata": {},
   "outputs": [
    {
     "name": "stdout",
     "output_type": "stream",
     "text": [
      "5\n"
     ]
    }
   ],
   "source": [
    "a = np.array([[11,12,5], [15,6,10], [10,8,12], [12,15,8], [34,78,90]])\n",
    "\n",
    "print(a.min())"
   ]
  },
  {
   "cell_type": "markdown",
   "id": "bcbbf0e5",
   "metadata": {},
   "source": [
    "        SUMA DE LAS COLUMNAS DE UNA MATRIZ"
   ]
  },
  {
   "cell_type": "code",
   "execution_count": 21,
   "id": "7066f4cc",
   "metadata": {},
   "outputs": [
    {
     "name": "stdout",
     "output_type": "stream",
     "text": [
      "[ 82 119 125]\n"
     ]
    }
   ],
   "source": [
    "a = np.array([[11,12,5], [15,6,10], [10,8,12], [12,15,8], [34,78,90]])\n",
    "\n",
    "print(a.sum(axis = 0))"
   ]
  },
  {
   "cell_type": "markdown",
   "id": "7d573d54",
   "metadata": {},
   "source": [
    "        SUMA DE LAS FILAS DE UNA MATRIZ "
   ]
  },
  {
   "cell_type": "code",
   "execution_count": 22,
   "id": "6673a646",
   "metadata": {},
   "outputs": [
    {
     "name": "stdout",
     "output_type": "stream",
     "text": [
      "[ 28  31  30  35 202]\n",
      "<class 'numpy.ndarray'>\n"
     ]
    }
   ],
   "source": [
    "a = np.array([[11,12,5], [15,6,10], [10,8,12], [12,15,8], [34,78,90]])\n",
    "\n",
    "sum_filas = a.sum(axis = 1)\n",
    "print(sum_filas)\n",
    "print(type(sum_filas))"
   ]
  },
  {
   "cell_type": "markdown",
   "id": "4c5dff9f",
   "metadata": {},
   "source": [
    "        MAXIMO ELEMENTO DE CADA COLUMNA "
   ]
  },
  {
   "cell_type": "code",
   "execution_count": 23,
   "id": "c6b7d597",
   "metadata": {},
   "outputs": [
    {
     "name": "stdout",
     "output_type": "stream",
     "text": [
      "[34 78 90]\n"
     ]
    }
   ],
   "source": [
    "a = np.array([[11,12,5], [15,6,10], [10,8,12], [12,15,8], [34,78,90]])\n",
    "\n",
    "max_elem_col = a.max(axis = 0)\n",
    "print(max_elem_col)"
   ]
  },
  {
   "cell_type": "markdown",
   "id": "b39ce6d3",
   "metadata": {},
   "source": [
    "        MINIMO ELEMENTO DE CADA COLUMNA "
   ]
  },
  {
   "cell_type": "code",
   "execution_count": null,
   "id": "39b6dce7",
   "metadata": {},
   "outputs": [
    {
     "name": "stdout",
     "output_type": "stream",
     "text": [
      "[10  6  5]\n"
     ]
    }
   ],
   "source": [
    "a = np.array([[11,12,5], [15,6,10], [10,8,12], [12,15,8], [34,78,90]])\n",
    "\n",
    "min_elem_col = a.min(axis = 0)\n",
    "print(min_elem_col)"
   ]
  },
  {
   "cell_type": "markdown",
   "id": "313cc88b",
   "metadata": {},
   "source": [
    "##### Dimension de una matriz \n",
    "\n",
    "- No es un metodo -> no necesita llamado "
   ]
  },
  {
   "cell_type": "code",
   "execution_count": 26,
   "id": "902a4177",
   "metadata": {},
   "outputs": [
    {
     "name": "stdout",
     "output_type": "stream",
     "text": [
      "2\n"
     ]
    }
   ],
   "source": [
    "a = np.array([[11,12,5], [15,6,10], [10,8,12], [12,15,8], [34,78,90]])\n",
    "print(a.ndim)"
   ]
  },
  {
   "cell_type": "markdown",
   "id": "4d3af161",
   "metadata": {},
   "source": [
    "##### Forma de una matriz \n",
    "\n",
    "- Nos devuelve la cantidad de filas y columnas "
   ]
  },
  {
   "cell_type": "code",
   "execution_count": 27,
   "id": "12143d91",
   "metadata": {},
   "outputs": [
    {
     "name": "stdout",
     "output_type": "stream",
     "text": [
      "(5, 3)\n"
     ]
    }
   ],
   "source": [
    "a = np.array([[11,12,5], [15,6,10], [10,8,12], [12,15,8], [34,78,90]])\n",
    "print(a.shape)"
   ]
  },
  {
   "cell_type": "markdown",
   "id": "69d5589f",
   "metadata": {},
   "source": [
    "##### Tamano\n",
    "\n",
    "- Nos devuelve la cantidad de elementos de una matriz"
   ]
  },
  {
   "cell_type": "code",
   "execution_count": 28,
   "id": "dff435e6",
   "metadata": {},
   "outputs": [
    {
     "name": "stdout",
     "output_type": "stream",
     "text": [
      "15\n"
     ]
    }
   ],
   "source": [
    "a = np.array([[11,12,5], [15,6,10], [10,8,12], [12,15,8], [34,78,90]])\n",
    "print(a.size)\n"
   ]
  }
 ],
 "metadata": {
  "kernelspec": {
   "display_name": "Python 3",
   "language": "python",
   "name": "python3"
  },
  "language_info": {
   "codemirror_mode": {
    "name": "ipython",
    "version": 3
   },
   "file_extension": ".py",
   "mimetype": "text/x-python",
   "name": "python",
   "nbconvert_exporter": "python",
   "pygments_lexer": "ipython3",
   "version": "3.11.9"
  }
 },
 "nbformat": 4,
 "nbformat_minor": 5
}
