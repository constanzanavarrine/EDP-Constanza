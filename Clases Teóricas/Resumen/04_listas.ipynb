{
 "cells": [
  {
   "cell_type": "markdown",
   "id": "9534ddd3",
   "metadata": {},
   "source": [
    "# Listas\n",
    "\n",
    "## Modifican (None):\n",
    "`append`, `insert`, `extend`, `remove`, `pop`, `clear`, `sort`, `reverse`\n",
    "\n",
    "## No modifican:\n",
    "`index`, `count`, `copy`, `sorted`, `reversed`\n",
    "\n",
    "## Comprensiones:\n",
    "```python\n",
    "[x*2 for x in range(5)]\n",
    "[x for x in xs if cond(x)]\n",
    "[(i,p) for i,p in enumerate(pals) if p=='b']\n",
    "```\n",
    "\n",
    "## Expresión generadora:\n",
    "```python\n",
    "(x**2 for x in range(5))\n",
    "```\n"
   ]
  }
 ],
 "metadata": {},
 "nbformat": 4,
 "nbformat_minor": 5
}
