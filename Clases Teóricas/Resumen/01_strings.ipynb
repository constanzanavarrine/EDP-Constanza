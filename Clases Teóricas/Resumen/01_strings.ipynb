{
 "cells": [
  {
   "cell_type": "markdown",
   "id": "1f875822",
   "metadata": {},
   "source": [
    "# Strings en Python\n",
    "\n",
    "## Constantes definidas en `string`\n",
    "```python\n",
    "import string\n",
    "\n",
    "string.ascii_lowercase  # abcdefghijklmnopqrstuvwxyz\n",
    "string.ascii_uppercase  # ABCDEFGHIJKLMNOPQRSTUVWXYZ\n",
    "string.ascii_letters    # abcdefghijklmnopqrstuvwxyzABCDEFGHIJKLMNOPQRSTUVWXYZ\n",
    "string.punctuation      # !\"#$%&'()*+,-./:;<=>?@[\\]^_`{|}~\n",
    "string.whitespace       # espacios, tab, salto línea, salto página, retorno, tab vertical\n",
    "string.digits           # 0123456789\n",
    "string.hexdigits        # 0123456789abcdefABCDEF\n",
    "```\n"
   ]
  },
  {
   "cell_type": "markdown",
   "id": "63eca6be",
   "metadata": {},
   "source": [
    "## Métodos *is* de cadenas (cuadro)\n",
    "\n",
    "| Método | Verifica | Devuelve True si… | Ejemplo | Resultado |\n",
    "|---|---|---|---|---|\n",
    "| `c.isalpha()` | Solo letras (A–Z, a–z) | Todos son letras | `\"a\".isalpha()` | `True` |\n",
    "| `c.isdigit()` | Solo dígitos | Todos son dígitos | `\"7\".isdigit()` | `True` |\n",
    "| `c.isalnum()` | Letras o dígitos | Todos son letras o dígitos | `\"a7\".isalnum()` | `True` |\n",
    "| `not c.isalnum()` | No letra ni dígito | Símbolo/espacio/puntuación | `not \"!\".isalnum()` | `True` |\n",
    "| `c.islower()` | Minúsculas | Todas minúsculas | `\"a\".islower()` | `True` |\n",
    "| `c.isupper()` | Mayúsculas | Todas mayúsculas | `\"A\".isupper()` | `True` |\n",
    "| `c.isspace()` | Espacios/tabs/saltos | Solo espacios | `\" \\t\\n\".isspace()` | `True` |\n",
    "| `c.isdecimal()` | Dígitos decimales | Solo decimales | `\"5\".isdecimal()` | `True` |\n",
    "| `c.isnumeric()` | Numéricos amplios | Incluye fracciones/supers | `\"¼\".isnumeric()` | `True` |\n",
    "| `c.istitle()` | Estilo título | Primer letra mayús, resto minús | `\"Hola Mundo\".istitle()` | `True` |\n"
   ]
  },
  {
   "cell_type": "markdown",
   "id": "004f9766",
   "metadata": {},
   "source": [
    "## Métodos comunes\n",
    "- `s.upper()`, `s.lower()`, `s.capitalize()`, `s.title()`\n",
    "- `s.replace(\"viejo\",\"nuevo\")` (crea nueva cadena)\n",
    "- `s.strip()`, `s.rstrip()`, `s.lstrip()`\n",
    "- `s.count(sub)`, `s.find(sub)`\n",
    "- `s.split(sep)`, `'sep'.join(lista)`"
   ]
  }
 ],
 "metadata": {},
 "nbformat": 4,
 "nbformat_minor": 5
}
