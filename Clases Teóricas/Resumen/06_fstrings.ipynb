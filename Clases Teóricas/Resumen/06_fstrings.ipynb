{
 "cells": [
  {
   "cell_type": "markdown",
   "id": "792f8587",
   "metadata": {},
   "source": [
    "# F-strings — Specifiers\n",
    "\n",
    "- Enteros: `:d`, `:b`, `:o`, `:x`, `:X`\n",
    "- Flotantes: `:f`, `:.2f`, `:e`, `:E`, `:g`\n",
    "- Otros: `:c`, `:%`, `:.2%`\n",
    "- Ancho/Alineación/Relleno: `:5d`, `:<5d`, `:^5d`, `:05d`\n",
    "- Separadores: `:,`, `:_`\n",
    "\n",
    "```python\n",
    "f\"{255:08x}\"  # '000000ff'\n",
    "```\n"
   ]
  }
 ],
 "metadata": {},
 "nbformat": 4,
 "nbformat_minor": 5
}
