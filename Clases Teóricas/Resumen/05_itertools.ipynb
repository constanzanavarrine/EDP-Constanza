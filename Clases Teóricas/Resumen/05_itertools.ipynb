{
 "cells": [
  {
   "cell_type": "markdown",
   "id": "a9afc598",
   "metadata": {},
   "source": [
    "# Itertools\n",
    "\n",
    "- Infinitos: `count`, `cycle`, `repeat`\n",
    "- Terminables: `accumulate`, `chain`, `compress`, `dropwhile`, `takewhile`, `filterfalse`, `islice`\n",
    "- Combinatorios: `product`, `permutations`, `combinations`, `combinations_with_replacement`\n",
    "- Agrupamiento: `groupby`\n",
    "\n",
    "```python\n",
    "from itertools import count, accumulate, chain, islice, product, groupby\n",
    "list(accumulate([1,2,3]))  # [1,3,6]\n",
    "```\n"
   ]
  }
 ],
 "metadata": {},
 "nbformat": 4,
 "nbformat_minor": 5
}
