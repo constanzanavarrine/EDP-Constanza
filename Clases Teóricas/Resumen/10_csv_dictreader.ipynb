{
 "cells": [
  {
   "cell_type": "markdown",
   "id": "207df6d0",
   "metadata": {},
   "source": [
    "# Leer CSV con `csv.DictReader` — Resumen rápido"
   ]
  },
  {
   "cell_type": "markdown",
   "id": "ad435894",
   "metadata": {},
   "source": [
    "\n",
    "`csv.DictReader` convierte cada fila del CSV en un **diccionario** donde:\n",
    "\n",
    "- **Claves** = nombres de las columnas (encabezado de la primera línea).\n",
    "- **Valores** = datos de la fila (strings).\n",
    "\n",
    "👉 Ventaja: accedés por **nombre de columna** en lugar de por índice.\n"
   ]
  },
  {
   "cell_type": "markdown",
   "id": "c47bdd3f",
   "metadata": {},
   "source": [
    "## Ejemplo mínimo"
   ]
  },
  {
   "cell_type": "code",
   "execution_count": null,
   "id": "c5c93ab6",
   "metadata": {},
   "outputs": [],
   "source": [
    "import csv\n",
    "\n",
    "with open(\"ejemplo.csv\", encoding=\"utf-8\") as f:\n",
    "    lector = csv.DictReader(f)\n",
    "    for fila in lector:\n",
    "        print(fila)  # Cada fila es un diccionario\n"
   ]
  },
  {
   "cell_type": "markdown",
   "id": "79f5a131",
   "metadata": {},
   "source": [
    "\n",
    "Si el archivo `ejemplo.csv` contiene:\n",
    "```\n",
    "fecha,lancha,colectivo\n",
    "2020-01-01,40,907421\n",
    "2020-01-02,94,3564004\n",
    "```\n",
    "\n",
    "La salida será:\n",
    "```\n",
    "{'fecha': '2020-01-01', 'lancha': '40', 'colectivo': '907421'}\n",
    "{'fecha': '2020-01-02', 'lancha': '94', 'colectivo': '3564004'}\n",
    "```\n"
   ]
  },
  {
   "cell_type": "markdown",
   "id": "5ab5a0f4",
   "metadata": {},
   "source": [
    "## Comparación rápida"
   ]
  },
  {
   "cell_type": "markdown",
   "id": "d2894d40",
   "metadata": {},
   "source": [
    "\n",
    "| Aspecto | `csv.reader` | `csv.DictReader` |\n",
    "|---|---|---|\n",
    "| Fila | lista (`['2020-01-01','40']`) | diccionario (`{'fecha':'2020-01-01','lancha':'40'}`) |\n",
    "| Acceso | por índice | por nombre de columna |\n",
    "| Legibilidad | menor | mayor |\n",
    "| Resiliencia a cambios | baja | alta |\n"
   ]
  },
  {
   "cell_type": "markdown",
   "id": "2a2061fa",
   "metadata": {},
   "source": [
    "## Patrón para tu proyecto SUBE"
   ]
  },
  {
   "cell_type": "code",
   "execution_count": 1,
   "id": "d06c610a",
   "metadata": {},
   "outputs": [],
   "source": [
    "import csv\n",
    "\n",
    "def leer_csv_como_dicts(path: str):\n",
    "    with open(path, encoding=\"utf-8\", newline=\"\") as f:\n",
    "        return list(csv.DictReader(f))\n",
    "\n",
    "# Ejemplo con tu archivo real:\n",
    "# datos = leer_csv_como_dicts(\"total-usuarios-por-dia.csv\")\n",
    "# print(len(datos), datos[0])\n"
   ]
  }
 ],
 "metadata": {
  "kernelspec": {
   "display_name": "Python 3",
   "language": "python",
   "name": "python3"
  },
  "language_info": {
   "codemirror_mode": {
    "name": "ipython",
    "version": 3
   },
   "file_extension": ".py",
   "mimetype": "text/x-python",
   "name": "python",
   "nbconvert_exporter": "python",
   "pygments_lexer": "ipython3",
   "version": "3.11.9"
  }
 },
 "nbformat": 4,
 "nbformat_minor": 5
}
