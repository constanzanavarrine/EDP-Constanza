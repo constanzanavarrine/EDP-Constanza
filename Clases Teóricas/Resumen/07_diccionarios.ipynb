{
 "cells": [
  {
   "cell_type": "markdown",
   "id": "05d1fb25",
   "metadata": {},
   "source": [
    "# Diccionarios\n",
    "\n",
    "- Pares clave:valor, clave inmutable.\n",
    "- `items()`, `keys()`, `values()`; `get`, `update`, `setdefault`, `fromkeys`.\n",
    "\n",
    "### update vs setdefault (cuadro)\n",
    "\n",
    "| Característica | update() | setdefault() |\n",
    "|---|---|---|\n",
    "| Sobrescribe valor | Sí | No |\n",
    "| Agrega clave nueva | Sí | Sí (si no existe) |\n",
    "| Varias claves | Sí | No |\n",
    "| Retorno | None | Valor de la clave |\n"
   ]
  }
 ],
 "metadata": {},
 "nbformat": 4,
 "nbformat_minor": 5
}
