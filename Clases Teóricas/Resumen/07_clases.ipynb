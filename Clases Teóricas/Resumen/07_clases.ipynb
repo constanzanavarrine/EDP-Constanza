{
 "cells": [
  {
   "cell_type": "markdown",
   "id": "0ef60395",
   "metadata": {},
   "source": [
    "# Clases y herencia\n",
    "\n",
    "```python\n",
    "class Figura:\n",
    "    def area(self): raise NotImplementedError\n",
    "class Rect(Figura):\n",
    "    def __init__(self,w,h): self.w,self.h=w,h\n",
    "    def area(self): return self.w*self.h\n",
    "```\n"
   ]
  }
 ],
 "metadata": {},
 "nbformat": 4,
 "nbformat_minor": 5
}
