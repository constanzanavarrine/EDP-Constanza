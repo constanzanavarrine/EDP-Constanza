{
 "cells": [
  {
   "cell_type": "markdown",
   "id": "707db98a",
   "metadata": {},
   "source": [
    "# Resumen Vehículos (Herencia + Patentes)\n",
    "\n",
    "```\n",
    "Vehiculo\n",
    "  ├─ Auto (terrestre)\n",
    "  ├─ Camion (terrestre)\n",
    "  ├─ Lancha (acuatico)\n",
    "  ├─ Velero (acuatico)\n",
    "  └─ Anfibio (anfibio)\n",
    "```\n",
    "- Unicidad por familia: terrestre / acuatico / anfibio.\n",
    "- `generar(tipo)`: prefijo + secuencia `:04d`.\n",
    "- `__eq__`: comparar `(tipo, patente)`.\n"
   ]
  }
 ],
 "metadata": {},
 "nbformat": 4,
 "nbformat_minor": 5
}
