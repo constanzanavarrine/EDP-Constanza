{
 "cells": [
  {
   "cell_type": "markdown",
   "id": "7037b8fa",
   "metadata": {},
   "source": [
    "# Función Lambda\n",
    "\n",
    "- Función anónima de una expresión.\n",
    "- Útil como `key=` y en `map/filter/reduce`.\n",
    "\n",
    "```python\n",
    "lambda x: x**2\n",
    "lambda x,y: x+y\n",
    "sorted(pares, key=lambda t:(t[1],t[0]))\n",
    "```\n"
   ]
  }
 ],
 "metadata": {},
 "nbformat": 4,
 "nbformat_minor": 5
}
