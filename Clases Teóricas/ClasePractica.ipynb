{
 "cells": [
  {
   "cell_type": "markdown",
   "id": "65bad25c",
   "metadata": {},
   "source": [
    "    Clase\n",
    "\n",
    "- Siempre en singular \n"
   ]
  }
 ],
 "metadata": {
  "language_info": {
   "name": "python"
  }
 },
 "nbformat": 4,
 "nbformat_minor": 5
}
