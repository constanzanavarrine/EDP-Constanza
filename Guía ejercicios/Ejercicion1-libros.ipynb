{
 "cells": [
  {
   "cell_type": "markdown",
   "id": "23ce99c9",
   "metadata": {},
   "source": [
    "Si usted ejecuta las siguientes sentencias:     \n",
    "SELECT * FROM titulos WHERE id = 'BU339'        \n",
    "SELECT * FROM titulos WHERE id LIKE 'BU%'       \n",
    "SELECT * FROM titulos WHERE id LIKE 'BU339'     \n",
    "\n",
    "a) El resultado es el mismo? Por que?\n",
    "b) Alguna de las sentencias genera un resultado igual? Por que?\n",
    "\n",
    "- Cuando trabajo con like sin ningun comodin entonces el resultado de la sentencia es el mismo. En el primer y segundo caso estaremos extrayendo la tabla titulos con la condicion de que id sea igual a \"BU339\". Sin embargo, la segunda consulta nos estara devolviendo todos aquellos campos de valores donde su nombre comience con la palabra BU. "
   ]
  }
 ],
 "metadata": {
  "language_info": {
   "name": "python"
  }
 },
 "nbformat": 4,
 "nbformat_minor": 5
}
