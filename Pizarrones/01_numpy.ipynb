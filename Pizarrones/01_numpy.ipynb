{
 "cells": [
  {
   "cell_type": "markdown",
   "id": "3a2e1725",
   "metadata": {},
   "source": [
    "## Creacion de arrays - Fundamentos"
   ]
  },
  {
   "cell_type": "code",
   "execution_count": null,
   "id": "703cfb7f",
   "metadata": {},
   "outputs": [],
   "source": [
    "\n",
    "# Celda de imports\n",
    "import numpy as np\n",
    "\n",
    "print(\"NumPy version:\", np.__version__)"
   ]
  },
  {
   "cell_type": "code",
   "execution_count": null,
   "id": "d2cf06ff",
   "metadata": {},
   "outputs": [],
   "source": [
    "\n",
    "# Arrays básicos\n",
    "arr_1d = np.array([1, 2, 3, 4, 5])\n",
    "arr_2d = np.array([[1, 2, 3],\n",
    "                   [4, 5, 6]])\n",
    "arr_3d = np.array([[[1, 2], [3, 4]], [[5, 6], [7, 8]]])\n",
    "\n",
    "print(\"Array 1D:\", arr_1d)\n",
    "print(\"Array 2D:\\n\", arr_2d)\n",
    "print(\"Array 3D shape:\", arr_3d.shape)\n",
    "\n",
    "# Funciones de creación útiles\n",
    "zeros = np.zeros((3, 4))\n",
    "ones = np.ones((2, 3))\n",
    "identity = np.eye(3)\n",
    "random_vals = np.random.random((2, 3))\n",
    "\n",
    "print(\"\\nZeros 3x4:\\n\", zeros)\n",
    "print(\"\\nIdentidad 3x3:\\n\", identity)\n",
    "\n",
    "# Rangos y secuencias\n",
    "range_arr = np.arange(0, 10, 2)  # inicio, fin, paso\n",
    "linspace_arr = np.linspace(0, 1, 5)  # inicio, fin, cantidad\n",
    "\n",
    "print(\"\\nArange:\", range_arr)\n",
    "print(\"Linspace:\", linspace_arr)"
   ]
  },
  {
   "cell_type": "markdown",
   "id": "8c14ed56",
   "metadata": {},
   "source": [
    "## Propiedades de los arrays"
   ]
  },
  {
   "cell_type": "code",
   "execution_count": 2,
   "id": "14c0362a",
   "metadata": {},
   "outputs": [
    {
     "name": "stdout",
     "output_type": "stream",
     "text": [
      "Array ejemplo:\n",
      " [[ 6 12  0 76 63]\n",
      " [ 6 96 37 31 17]\n",
      " [ 8 46 53 19 26]\n",
      " [46 25 25 61 45]]\n",
      "Shape: (4, 5)\n",
      "Dimensiones: 2\n",
      "Tamaño total: 20\n",
      "Tipo de datos: int64\n",
      "Bytes por elemento: 8\n"
     ]
    }
   ],
   "source": [
    "import numpy as np\n",
    "import random \n",
    "\n",
    "data = np.random.randint(0, 100, (4, 5))\n",
    "print(\"Array ejemplo:\\n\", data)\n",
    "print(f\"Shape: {data.shape}\")\n",
    "print(f\"Dimensiones: {data.ndim}\")\n",
    "print(f\"Tamaño total: {data.size}\")\n",
    "print(f\"Tipo de datos: {data.dtype}\")\n",
    "print(f\"Bytes por elemento: {data.itemsize}\")"
   ]
  },
  {
   "cell_type": "markdown",
   "id": "04720f69",
   "metadata": {},
   "source": [
    "## Matrices triangulares"
   ]
  },
  {
   "cell_type": "markdown",
   "id": "62d9f27e",
   "metadata": {},
   "source": [
    "#### Contenido\n",
    "- np.tril: parte triangular inferior como matriz\n",
    "- np.tril_indices: indices (coordenadas) de la parte inferior\n",
    "- np.triu: parte triangular superior como matriz"
   ]
  },
  {
   "cell_type": "markdown",
   "id": "57798223",
   "metadata": {},
   "source": [
    "np.tril(matriz, k=0)\n",
    "\n",
    "devuelve una matriz donde se conservan los elementos de la\n",
    "parte triangular inferior y se reemplaza con 0 todo lo que queda por \n",
    "encima de la diagonal elegida\n"
   ]
  },
  {
   "cell_type": "code",
   "execution_count": null,
   "id": "9915c56f",
   "metadata": {},
   "outputs": [
    {
     "name": "stdout",
     "output_type": "stream",
     "text": [
      "Matriz A:\n",
      " [[1 2 3]\n",
      " [4 5 6]\n",
      " [7 8 9]]\n",
      "\n",
      "np.tril(A, 0):\n",
      " [[1 0 0]\n",
      " [4 5 0]\n",
      " [7 8 9]]\n",
      "\n",
      "np.tril(A, -1):\n",
      " [[0 0 0]\n",
      " [4 0 0]\n",
      " [7 8 0]]\n",
      "\n",
      "np.tril(A, 1):\n",
      " [[1 2 0]\n",
      " [4 5 6]\n",
      " [7 8 9]]\n"
     ]
    }
   ],
   "source": [
    "\n",
    "A = np.array([[1,2,3],\n",
    "              [4,5,6],\n",
    "              [7,8,9]])\n",
    "\n",
    "print(\"Matriz A:\\n\", A)\n",
    "print(\"\\nnp.tril(A, 0):\\n\", np.tril(A, 0))   # incluye diagonal\n",
    "print(\"\\nnp.tril(A, -1):\\n\", np.tril(A, -1)) # debajo de la diagonal (sin diagonal)\n",
    "print(\"\\nnp.tril(A, 1):\\n\", np.tril(A, 1))   # incluye una diagonal por encima\n"
   ]
  },
  {
   "cell_type": "markdown",
   "id": "b80c42ba",
   "metadata": {},
   "source": [
    "np.tril_indices(n, k=0)\n",
    "\n",
    "devuelve las coordenadas (dos arrays: filas y columnas)\n",
    "de los elementos que pertenecen a la parte triangular inferior \n",
    "de una matriz nxn"
   ]
  },
  {
   "cell_type": "code",
   "execution_count": null,
   "id": "14523ea8",
   "metadata": {},
   "outputs": [
    {
     "name": "stdout",
     "output_type": "stream",
     "text": [
      "filas: [1 2 2]\n",
      "cols : [0 0 1]\n",
      "\n",
      "Elementos A[filas, cols]: [4 7 8]\n"
     ]
    }
   ],
   "source": [
    "\n",
    "\n",
    "n = 3 # (valor de la matriz nxn)\n",
    "filas, cols = np.tril_indices(n, k=-1)  # solo debajo de la diagonal\n",
    "print(\"filas:\", filas)\n",
    "print(\"cols :\", cols)\n",
    "\n",
    "print(\"\\nElementos A[filas, cols]:\", A[filas, cols])  # valores debajo de la diagonal de A\n"
   ]
  },
  {
   "cell_type": "markdown",
   "id": "ca2103ee",
   "metadata": {},
   "source": [
    "NumPy toma estos arrays y accede a las posiciones de A en pares:\n",
    "\n",
    "- A[1,0] (fila 1, columna 0) → elemento 4     \n",
    "- A[2,0] (fila 2, columna 0) → elemento 7     \n",
    "- A[2,1] (fila 2, columna 1) → elemento 8     "
   ]
  },
  {
   "cell_type": "code",
   "execution_count": null,
   "id": "996a22ca",
   "metadata": {},
   "outputs": [],
   "source": [
    "A = [[1, 2, 3],\n",
    "     [4, 5, 6],\n",
    "     [7, 8, 9]]\n",
    "     \n",
    "# Las posiciones accedidas son:\n",
    "#     col 0   col 1   col 2\n",
    "#    ┌───────┬───────┬───────┐\n",
    "#    │       │       │       │\n",
    "# f0 │   1   │   2   │   3   │\n",
    "#    │       │       │       │\n",
    "#    ├───────┼───────┼───────┤\n",
    "#    │   ↓   │       │       │\n",
    "# f1 │   4   │   5   │   6   │\n",
    "#    │       │       │       │\n",
    "#    ├───────┼───────┼───────┤\n",
    "#    │   ↓   │   ↓   │       │\n",
    "# f2 │   7   │   8   │   9   │\n",
    "#    │       │       │       │\n",
    "#    └───────┴───────┴───────┘\n",
    "\n",
    "# A[filas, cols] devuelve: [4, 7, 8]"
   ]
  },
  {
   "cell_type": "markdown",
   "id": "c8c279a4",
   "metadata": {},
   "source": [
    "np.triu(matriz, k=0)\n",
    "\n",
    "Análogo de `np.tril` pero para la **parte triangular superior**.\n",
    "\n"
   ]
  },
  {
   "cell_type": "code",
   "execution_count": 13,
   "id": "b1bccd12",
   "metadata": {},
   "outputs": [
    {
     "name": "stdout",
     "output_type": "stream",
     "text": [
      "np.triu(A, 0):\n",
      " [[1 2 3]\n",
      " [0 5 6]\n",
      " [0 0 9]]\n",
      "\n",
      "np.triu(A, 1):\n",
      " [[0 2 3]\n",
      " [0 0 6]\n",
      " [0 0 0]]\n",
      "\n",
      "np.triu(A, -1):\n",
      " [[1 2 3]\n",
      " [4 5 6]\n",
      " [0 8 9]]\n"
     ]
    }
   ],
   "source": [
    "print(\"np.triu(A, 0):\\n\", np.triu(A, 0))\n",
    "print(\"\\nnp.triu(A, 1):\\n\", np.triu(A, 1))   # estrictamente arriba (sin diagonal)\n",
    "print(\"\\nnp.triu(A, -1):\\n\", np.triu(A, -1)) # incluye una diagonal por debajo\n"
   ]
  },
  {
   "cell_type": "markdown",
   "id": "edec1363",
   "metadata": {},
   "source": [
    "## Checks vectorizados (sin `for`)\n",
    "\n",
    "**Triangular superior:** todos los elementos *debajo* de la diagonal deben ser 0.\n",
    "- Opción con máscara por índices:\n",
    "```python\n",
    "li = np.tril_indices(n, k=-1)\n",
    "np.all(A[li] == 0)\n",
    "```\n",
    "- Opción con matriz triangular:\n",
    "```python\n",
    "np.all(np.tril(A, -1) == 0)\n",
    "```\n",
    "\n",
    "**Triangular inferior:** todos los elementos *encima* de la diagonal deben ser 0.\n",
    "- Índices:\n",
    "```python\n",
    "ui = np.triu_indices(n, k=1)\n",
    "np.all(A[ui] == 0)\n",
    "```\n",
    "- Matriz triangular:\n",
    "```python\n",
    "np.all(np.triu(A, 1) == 0)\n",
    "```\n"
   ]
  },
  {
   "cell_type": "code",
   "execution_count": 14,
   "id": "618720b0",
   "metadata": {},
   "outputs": [
    {
     "name": "stdout",
     "output_type": "stream",
     "text": [
      "es_triangular_superior(Tsup) → True\n",
      "es_triangular_inferior(Tsup) → False\n",
      "es_triangular_superior(Tinf) → False\n",
      "es_triangular_inferior(Tinf) → True\n",
      "es_triangular_superior(NoTri) → False\n",
      "es_triangular_inferior(NoTri) → False\n"
     ]
    }
   ],
   "source": [
    "def es_cuadrada(M):\n",
    "    return (M.ndim == 2) and (M.shape[0] == M.shape[1])\n",
    "\n",
    "def es_triangular_superior(M):\n",
    "    if not es_cuadrada(M):\n",
    "        return False\n",
    "    n = M.shape[0]\n",
    "    li = np.tril_indices(n, k=-1)  # posiciones debajo de la diagonal\n",
    "    return np.all(M[li] == 0)\n",
    "\n",
    "def es_triangular_inferior(M):\n",
    "    if not es_cuadrada(M):\n",
    "        return False\n",
    "    n = M.shape[0]\n",
    "    ui = np.triu_indices(n, k=1)   # posiciones encima de la diagonal\n",
    "    return np.all(M[ui] == 0)\n",
    "\n",
    "# Pruebas rápidas\n",
    "Tsup = np.array([[1,2,3],\n",
    "                 [0,5,6],\n",
    "                 [0,0,9]])\n",
    "\n",
    "Tinf = np.array([[1,0,0],\n",
    "                 [4,5,0],\n",
    "                 [7,8,9]])\n",
    "\n",
    "NoTri = np.array([[1,2,3],\n",
    "                  [4,5,6],\n",
    "                  [0,0,9]])\n",
    "\n",
    "print(\"es_triangular_superior(Tsup) →\", es_triangular_superior(Tsup))\n",
    "print(\"es_triangular_inferior(Tsup) →\", es_triangular_inferior(Tsup))\n",
    "\n",
    "print(\"es_triangular_superior(Tinf) →\", es_triangular_superior(Tinf))\n",
    "print(\"es_triangular_inferior(Tinf) →\", es_triangular_inferior(Tinf))\n",
    "\n",
    "print(\"es_triangular_superior(NoTri) →\", es_triangular_superior(NoTri))\n",
    "print(\"es_triangular_inferior(NoTri) →\", es_triangular_inferior(NoTri))\n"
   ]
  },
  {
   "cell_type": "markdown",
   "id": "e5aa7d8c",
   "metadata": {},
   "source": [
    "## Indexado y slice"
   ]
  },
  {
   "cell_type": "code",
   "execution_count": 3,
   "id": "4c913620",
   "metadata": {},
   "outputs": [
    {
     "name": "stdout",
     "output_type": "stream",
     "text": [
      "Array base:\n",
      " [[ 0  1  2  3  4]\n",
      " [ 5  6  7  8  9]\n",
      " [10 11 12 13 14]\n",
      " [15 16 17 18 19]]\n",
      "\n",
      "Elemento [1,2]: 7\n",
      "Primera fila: [0 1 2 3 4]\n",
      "Segunda columna: [ 1  6 11 16]\n",
      "\n",
      "Primeras 2 filas, columnas 1-3:\n",
      " [[1 2 3]\n",
      " [6 7 8]]\n",
      "Cada segunda fila:\n",
      " [[ 0  1  2  3  4]\n",
      " [10 11 12 13 14]]\n",
      "\n",
      "Elementos > 10: [11 12 13 14 15 16 17 18 19]\n",
      "Filas seleccionadas [0,2,3]:\n",
      " [[ 0  1  2  3  4]\n",
      " [10 11 12 13 14]\n",
      " [15 16 17 18 19]]\n"
     ]
    }
   ],
   "source": [
    "\n",
    "arr = np.array([[0, 1, 2, 3, 4],\n",
    "               [5, 6, 7, 8, 9],\n",
    "               [10, 11, 12, 13, 14],\n",
    "               [15, 16, 17, 18, 19]])\n",
    "print(\"Array base:\\n\", arr)\n",
    "\n",
    "# Indexing básico\n",
    "print(\"\\nElemento [1,2]:\", arr[1, 2])\n",
    "print(\"Primera fila:\", arr[0, :])\n",
    "print(\"Segunda columna:\", arr[:, 1])\n",
    "\n",
    "# Slicing avanzado\n",
    "print(\"\\nPrimeras 2 filas, columnas 1-3:\\n\", arr[:2, 1:4])\n",
    "print(\"Cada segunda fila:\\n\", arr[::2, :])\n",
    "\n",
    "# Boolean indexing\n",
    "mask = arr > 10\n",
    "print(\"\\nElementos > 10:\", arr[mask])\n",
    "\n",
    "# Fancy indexing\n",
    "indices = [0, 2, 3]\n",
    "print(\"Filas seleccionadas [0,2,3]:\\n\", arr[indices, :])"
   ]
  },
  {
   "cell_type": "markdown",
   "id": "d16ad3b0",
   "metadata": {},
   "source": [
    "## Reshape y manipulacion de forma "
   ]
  },
  {
   "cell_type": "code",
   "execution_count": 4,
   "id": "e55e7c09",
   "metadata": {},
   "outputs": [
    {
     "name": "stdout",
     "output_type": "stream",
     "text": [
      "Original: [ 0  1  2  3  4  5  6  7  8  9 10 11]\n",
      "Reshape 3x4 del vector original:\n",
      " [[ 0  1  2  3]\n",
      " [ 4  5  6  7]\n",
      " [ 8  9 10 11]]\n",
      "Flatten de la matriz reshaped: [ 0  1  2  3  4  5  6  7  8  9 10 11]\n",
      "Matriz transpuesta:\n",
      " [[ 0  4  8]\n",
      " [ 1  5  9]\n",
      " [ 2  6 10]\n",
      " [ 3  7 11]]\n",
      "\n",
      "Concatenación vertical:\n",
      " [[1 2]\n",
      " [3 4]\n",
      " [5 6]\n",
      " [7 8]]\n",
      "Concatenación horizontal:\n",
      " [[1 2 5 6]\n",
      " [3 4 7 8]]\n"
     ]
    }
   ],
   "source": [
    "\n",
    "original = np.arange(12) # vector del 0 al 11\n",
    "print(\"Original:\", original)\n",
    "\n",
    "# Reshape\n",
    "reshaped = original.reshape(3, 4)\n",
    "print(\"Reshape 3x4 del vector original:\\n\", reshaped)\n",
    "\n",
    "# Flatten\n",
    "flattened = reshaped.flatten()\n",
    "print(\"Flatten de la matriz reshaped:\", flattened)\n",
    "\n",
    "# Transpose\n",
    "transposed = reshaped.T\n",
    "print(\"Matriz transpuesta:\\n\", transposed)\n",
    "\n",
    "# Concatenación\n",
    "arr1 = np.array([[1, 2],\n",
    "                 [3, 4]])\n",
    "arr2 = np.array([[5, 6],\n",
    "                 [7, 8]])\n",
    "\n",
    "concat_v = np.vstack([arr1, arr2])  # vertical\n",
    "concat_h = np.hstack([arr1, arr2])  # horizontal\n",
    "\n",
    "print(\"\\nConcatenación vertical:\\n\", concat_v)\n",
    "print(\"Concatenación horizontal:\\n\", concat_h)"
   ]
  },
  {
   "cell_type": "markdown",
   "id": "ed54ba0b",
   "metadata": {},
   "source": [
    "## Broadcasting"
   ]
  },
  {
   "cell_type": "code",
   "execution_count": 5,
   "id": "70d063e0",
   "metadata": {},
   "outputs": [
    {
     "name": "stdout",
     "output_type": "stream",
     "text": [
      "Array original:\n",
      " [[1 2 3]\n",
      " [4 5 6]]\n",
      "\n",
      "Array + 10:\n",
      " [[11 12 13]\n",
      " [14 15 16]]\n",
      "\n",
      "Row vector: [1 2 3]\n",
      "Col vector:\n",
      " [[10]\n",
      " [20]]\n",
      "Broadcasting sum:\n",
      " [[11 12 13]\n",
      " [21 22 23]]\n"
     ]
    }
   ],
   "source": [
    "# Broadcasting básico\n",
    "arr = np.array([[1, 2, 3], [4, 5, 6]])\n",
    "k = 10\n",
    "\n",
    "print(\"Array original:\\n\", arr)\n",
    "print(\"\\nArray + 10:\\n\", arr + k)\n",
    "\n",
    "# Broadcasting con arrays\n",
    "row_vector = np.array([1, 2, 3])\n",
    "col_vector = np.array([[10],\n",
    "                       [20]])\n",
    "\n",
    "print(\"\\nRow vector:\", row_vector)\n",
    "print(\"Col vector:\\n\", col_vector)\n",
    "print(\"Broadcasting sum:\\n\", row_vector + col_vector)"
   ]
  },
  {
   "cell_type": "markdown",
   "id": "cfabcc1c",
   "metadata": {},
   "source": [
    "## Operaciones aritméticas"
   ]
  },
  {
   "cell_type": "code",
   "execution_count": 7,
   "id": "93960f0c",
   "metadata": {},
   "outputs": [
    {
     "name": "stdout",
     "output_type": "stream",
     "text": [
      "a = [1 2 3 4]\n",
      "b = [5 6 7 8]\n",
      "\n",
      "Suma: [ 6  8 10 12]\n",
      "Multiplicación: [ 5 12 21 32]\n",
      "Potencia: [ 1  4  9 16]\n",
      "\n",
      "Matriz A:\n",
      " [[1 2]\n",
      " [3 4]]\n",
      "Matriz B:\n",
      " [[5 6]\n",
      " [7 8]]\n",
      "Producto matricial A @ B:\n",
      " [[19 22]\n",
      " [43 50]]\n",
      "\n",
      "Seno de x: [ 0.00000000e+00  3.82683432e-01  7.07106781e-01  9.23879533e-01\n",
      "  1.00000000e+00  9.23879533e-01  7.07106781e-01  3.82683432e-01\n",
      "  1.22464680e-16 -3.82683432e-01 -7.07106781e-01 -9.23879533e-01\n",
      " -1.00000000e+00 -9.23879533e-01 -7.07106781e-01 -3.82683432e-01\n",
      " -2.44929360e-16]\n",
      "\n",
      "Seno de x: [ 0.    0.38  0.71  0.92  1.    0.92  0.71  0.38  0.   -0.38 -0.71 -0.92\n",
      " -1.   -0.92 -0.71 -0.38 -0.  ]\n",
      "\n",
      "Exponencial: [ 2.71828183  7.3890561  20.08553692]\n"
     ]
    }
   ],
   "source": [
    "\n",
    "a = np.array([1, 2, 3, 4])\n",
    "b = np.array([5, 6, 7, 8])\n",
    "\n",
    "print(\"a =\", a)\n",
    "print(\"b =\", b)\n",
    "\n",
    "# Operaciones elemento a elemento\n",
    "print(\"\\nSuma:\", a + b)\n",
    "print(\"Multiplicación:\", a * b)\n",
    "print(\"Potencia:\", a**2)\n",
    "\n",
    "# Operaciones matriciales\n",
    "matrix_a = np.array([[1, 2],\n",
    "                     [3, 4]])\n",
    "matrix_b = np.array([[5, 6],\n",
    "                     [7, 8]])\n",
    "\n",
    "print(\"\\nMatriz A:\\n\", matrix_a)\n",
    "print(\"Matriz B:\\n\", matrix_b)\n",
    "print(\"Producto matricial A @ B:\\n\", matrix_a @ matrix_b)\n",
    "\n",
    "# Funciones\n",
    "x = np.linspace(0, 2 * np.pi, 17) # vector linealmente espaciado entre 0 y 2pi, 9 elementos\n",
    "print(\"\\nSeno de x:\", np.sin(x))\n",
    "print(\"\\nSeno de x:\", np.round(np.sin(x), 2))\n",
    "print(\"\\nExponencial:\", np.exp([1, 2, 3]))"
   ]
  },
  {
   "cell_type": "markdown",
   "id": "2c2c59b6",
   "metadata": {},
   "source": [
    "## + Operaciones con matrices e inversa de una matriz"
   ]
  },
  {
   "cell_type": "code",
   "execution_count": null,
   "id": "c571507e",
   "metadata": {},
   "outputs": [],
   "source": [
    "A = np.array([[2,1],[5,3]])\n",
    "\n",
    "A_inv = np.linalg.inv(A)   \n",
    "print('Inversa de una matriz\\n',A_inv)\n",
    "\n",
    "detA= np.linalg.det(A)\n",
    "print('Determinante de una matriz\\n',A_inv)\n",
    "\n",
    "A_inv_int = A_inv.astype(int)\n",
    "print('Convertir a enteros (solo si son valores exactos)',A_inv_int)\n"
   ]
  },
  {
   "cell_type": "markdown",
   "id": "489c9929",
   "metadata": {},
   "source": [
    "\n",
    "## Operaciones estadísticas"
   ]
  },
  {
   "cell_type": "code",
   "execution_count": 6,
   "id": "2b6df68d",
   "metadata": {},
   "outputs": [
    {
     "name": "stdout",
     "output_type": "stream",
     "text": [
      "Media: 49.18\n",
      "Mediana: 47.26\n",
      "Desviación estándar: 16.87\n",
      "Mínimo: 13.45\n",
      "Máximo: 90.60\n",
      "\n",
      "Matriz:\n",
      " [[3 1 8 6]\n",
      " [8 5 7 8]\n",
      " [3 8 2 4]]\n",
      "Suma por filas (axis=1): [18 28 17]\n",
      "Media por columnas (axis=0): [4.66666667 4.66666667 5.66666667 6.        ]\n"
     ]
    }
   ],
   "source": [
    "data = np.random.normal(50, 15, 100)  # media=50, std=15, 100 elementos\n",
    "\n",
    "print(f\"Media: {np.mean(data):.2f}\")\n",
    "print(f\"Mediana: {np.median(data):.2f}\")\n",
    "print(f\"Desviación estándar: {np.std(data):.2f}\")\n",
    "print(f\"Mínimo: {np.min(data):.2f}\")\n",
    "print(f\"Máximo: {np.max(data):.2f}\")\n",
    "\n",
    "# Agregaciones por eje\n",
    "matrix = np.random.randint(1, 10, (3, 4)) # random entre 1 y 10, tamaño 3x4\n",
    "print(\"\\nMatriz:\\n\", matrix)\n",
    "print(\"Suma por filas (axis=1):\", np.sum(matrix, axis=1))\n",
    "print(\"Media por columnas (axis=0):\", np.mean(matrix, axis=0))"
   ]
  },
  {
   "cell_type": "markdown",
   "id": "f83c4b7c",
   "metadata": {},
   "source": [
    "\n",
    "## Sistemas de ecuaciones lineales"
   ]
  },
  {
   "cell_type": "code",
   "execution_count": 8,
   "id": "d8e71bfe",
   "metadata": {},
   "outputs": [
    {
     "name": "stdout",
     "output_type": "stream",
     "text": [
      "Solución > [-4.  6.  1.]\n"
     ]
    }
   ],
   "source": [
    "# Sistema de ecuaciones lineal => ecuación matricial AX = B\n",
    "\n",
    "# Por ejemplo:\n",
    "# 3x + 2y + z = 1\n",
    "# 5x + 3y + 4z = 2\n",
    "# x + y - z = 1\n",
    "\n",
    "A = np.array([[3, 2, 1],\n",
    "              [5, 3, 4],\n",
    "              [1, 1, -1]])\n",
    "B = np.array([1,\n",
    "              2,\n",
    "              1])\n",
    "\n",
    "X = np.linalg.solve(A, B)\n",
    "print(\"Solución >\", X)"
   ]
  },
  {
   "cell_type": "markdown",
   "id": "f5f9bdf4",
   "metadata": {},
   "source": [
    "## Comparación de performance"
   ]
  },
  {
   "cell_type": "code",
   "execution_count": 9,
   "id": "3168898d",
   "metadata": {},
   "outputs": [
    {
     "name": "stdout",
     "output_type": "stream",
     "text": [
      "Suma con listas Python: 0.0100 segundos\n",
      "Suma con NumPy: 0.0005 segundos\n",
      "NumPy es 18.3x más rápido\n",
      "\n",
      "Original: [0 1 2 3 4 5 6 7 8 9]\n",
      "Después de modificar original[0]:\n",
      "Vista: [999   2   4   6   8]\n",
      "Copia: [0 2 4 6 8]\n"
     ]
    }
   ],
   "source": [
    "# Comparación de performance\n",
    "import time\n",
    "\n",
    "# Lista de Python vs NumPy array\n",
    "python_list = list(range(1000000))\n",
    "numpy_array = np.arange(1000000)\n",
    "\n",
    "# Suma con listas\n",
    "start = time.time()\n",
    "sum_list = sum(python_list)\n",
    "time_list = time.time() - start\n",
    "\n",
    "# Suma con NumPy\n",
    "start = time.time()\n",
    "sum_numpy = np.sum(numpy_array)\n",
    "time_numpy = time.time() - start\n",
    "\n",
    "print(f\"Suma con listas Python: {time_list:.4f} segundos\")\n",
    "print(f\"Suma con NumPy: {time_numpy:.4f} segundos\")\n",
    "print(f\"NumPy es {time_list/time_numpy:.1f}x más rápido\")\n",
    "\n",
    "# Copia vs vista\n",
    "original = np.arange(10)\n",
    "view = original[::2]  # vista\n",
    "copy = original[::2].copy()  # copia\n",
    "\n",
    "print(\"\\nOriginal:\", original)\n",
    "original[0] = 999\n",
    "print(\"Después de modificar original[0]:\")\n",
    "print(\"Vista:\", view)  # cambia porque es vista\n",
    "print(\"Copia:\", copy)  # no cambia porque es copia independiente"
   ]
  }
 ],
 "metadata": {
  "kernelspec": {
   "display_name": "Python 3",
   "language": "python",
   "name": "python3"
  },
  "language_info": {
   "codemirror_mode": {
    "name": "ipython",
    "version": 3
   },
   "file_extension": ".py",
   "mimetype": "text/x-python",
   "name": "python",
   "nbconvert_exporter": "python",
   "pygments_lexer": "ipython3",
   "version": "3.12.1"
  }
 },
 "nbformat": 4,
 "nbformat_minor": 5
}
