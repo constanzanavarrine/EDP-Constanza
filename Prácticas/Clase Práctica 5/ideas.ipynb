{
 "cells": [
  {
   "cell_type": "markdown",
   "id": "a6ed75ea",
   "metadata": {},
   "source": [
    "\n",
    "1. Sustantivos → clases \n",
    "        - vehiculo (base), Camion, Auto, Lancha, Velero, Anfibio \n",
    "\n",
    "2. Verbos → metodos\n",
    "        - trasladarse (todos) y en anfibio ademas 'trasladarse por agua' \n",
    "    \n",
    "3. ' Es un' \n",
    "    \n",
    "    Herencia cuando puedo decir: 'X' es un 'Y'\n",
    "\n",
    "        - VehiculoTerrestre ← Auto, Camion (comparten ruedas, marca, ano y la regla de  \n",
    "        unicidad de patentes)\n",
    "\n",
    "        - VehiculoAcuatico ← Lancha, Velero (comparten marca, ano y medio: agua)\n",
    "\n",
    "        - Anfibio: herencia multiple (es terrestre y acuatico)\n",
    "\n",
    "4. Reglas de negocio en la clase duena del dato\n",
    "\n",
    "        - La unicidad de patente aplica a 'vehiculos terrestres', no a los acuaticos →\n",
    "        centralizo esa regla en VehiculoTerrestre\n",
    "\n",
    "5. Busquedas y unicidad \n",
    "        - Como cada patente terrestre es unica, uso un diccionario {patente: vehiculo}\n",
    "        para registrar y buscar rapido \n",
    "\n",
    "\n",
    "\n"
   ]
  }
 ],
 "metadata": {
  "language_info": {
   "name": "python"
  }
 },
 "nbformat": 4,
 "nbformat_minor": 5
}
